{
  "cells": [
    {
      "cell_type": "markdown",
      "source": "# Preprocessing & Feature Selection\n\n- Clean data\n- Normalize data\n- Study the opportunity of a reduction in size",
      "metadata": {
        "tags": [],
        "cell_id": "00000-28cf99a5-5d08-4306-99a2-4872732068e1",
        "deepnote_cell_type": "markdown"
      }
    },
    {
      "cell_type": "code",
      "metadata": {
        "tags": [],
        "cell_id": "00000-3b5c86e4-fffd-4937-bee5-b549bd688487",
        "deepnote_to_be_reexecuted": false,
        "source_hash": "5dd40c54",
        "execution_millis": 2220,
        "execution_start": 1619183294472,
        "deepnote_cell_type": "code"
      },
      "source": "import pickle\nimport numpy as np\nimport pandas as pd\nimport seaborn as sns\n\nfrom sklearn.preprocessing import RobustScaler\nfrom sklearn.preprocessing import StandardScaler\nfrom sklearn.preprocessing import MinMaxScaler\nfrom sklearn.decomposition import PCA\n\nfrom sklearn import linear_model",
      "execution_count": 1,
      "outputs": []
    },
    {
      "cell_type": "markdown",
      "source": "## Load x_train, x_val, x_test",
      "metadata": {
        "tags": [],
        "cell_id": "00002-6a39d918-44f8-4a97-8e82-2c5709002b75",
        "deepnote_cell_type": "markdown"
      }
    },
    {
      "cell_type": "code",
      "metadata": {
        "tags": [],
        "cell_id": "00002-8ac964fc-a79e-46c8-bfed-b5fa52bc760f",
        "deepnote_to_be_reexecuted": false,
        "source_hash": "a953c5e2",
        "execution_millis": 12,
        "execution_start": 1619183296698,
        "deepnote_cell_type": "code"
      },
      "source": "with open('../data/df_train.csv', 'rb') as handle:\n    df_train = pickle.load(handle)\nwith open('../data/x_train.pickle', 'rb') as handle:\n    x_train = pickle.load(handle)\nwith open('../data/x_val.pickle', 'rb') as handle:\n    x_val = pickle.load(handle)\nwith open('../data/df_test.csv', 'rb') as handle:\n    x_test = pickle.load(handle)\n\n\nwith open('../data/y_train.pickle', 'rb') as handle:\n    y_train = pickle.load(handle)",
      "execution_count": 2,
      "outputs": []
    },
    {
      "cell_type": "markdown",
      "source": "# Select features",
      "metadata": {
        "tags": [],
        "cell_id": "00004-ea5eeed6-797e-4f14-8157-0445ce63ccc3",
        "deepnote_cell_type": "markdown"
      }
    },
    {
      "cell_type": "markdown",
      "source": "## Correlation Matrix to select features",
      "metadata": {
        "tags": [],
        "cell_id": "00005-a3440c51-a2b4-4531-868c-d0196bd165b1",
        "deepnote_cell_type": "markdown"
      }
    },
    {
      "cell_type": "code",
      "metadata": {
        "tags": [],
        "cell_id": "00005-645aed84-d774-407e-bd7f-103f96946490",
        "deepnote_to_be_reexecuted": false,
        "source_hash": "1ecfd6df",
        "execution_millis": 6,
        "execution_start": 1619183296713,
        "deepnote_cell_type": "code"
      },
      "source": "MIN_R = 0.2 # 0.25 pas terrible dans l'ensemble les scores sont tous plus mauvais !\ndef selectFeaturesWithCorrMatrix(df, MIN_R):\n    corr = df.corr().round(2)\n    corr_cols = corr[corr['category'] > MIN_R]\n    cols = corr_cols.index.tolist()\n    cols.pop()\n\n    return cols",
      "execution_count": 3,
      "outputs": []
    },
    {
      "cell_type": "code",
      "metadata": {
        "tags": [],
        "cell_id": "00005-07487df8-bac0-4a34-866a-0f76b9fbecb3",
        "deepnote_to_be_reexecuted": false,
        "source_hash": "95b9c055",
        "execution_millis": 23,
        "execution_start": 1619183296723,
        "deepnote_cell_type": "code"
      },
      "source": "cols = selectFeaturesWithCorrMatrix(df_train, MIN_R)\n#x_train = x_train[cols]\n#x_val = x_val[cols]\n#x_test = x_test[cols]\n\n\ndel x_train['music_id']\ndel x_val['music_id']\ndel x_test['music_id']\ncols = x_train.columns",
      "execution_count": 4,
      "outputs": []
    },
    {
      "cell_type": "markdown",
      "source": "## Replace null variables",
      "metadata": {
        "tags": [],
        "cell_id": "00008-4ac06928-74d7-49e5-bf84-ee0df64887d3",
        "deepnote_cell_type": "markdown"
      }
    },
    {
      "cell_type": "code",
      "metadata": {
        "tags": [],
        "cell_id": "00008-a3d836e9-d3ca-4f8d-b104-a91beac4df16",
        "deepnote_to_be_reexecuted": false,
        "source_hash": "fc915f57",
        "execution_millis": 4,
        "execution_start": 1619183296751,
        "deepnote_cell_type": "code"
      },
      "source": "# Remplacer les valeurs null par la moyenne de sa colonne\ndef replaceNan(df, cols):\n    for col in cols:\n        df[col].fillna(df[col].mean(), inplace=True)\n    return df",
      "execution_count": 5,
      "outputs": []
    },
    {
      "cell_type": "code",
      "metadata": {
        "tags": [],
        "cell_id": "00009-9f1ec62c-3ccf-4790-a624-eb2a83ac6a8b",
        "deepnote_to_be_reexecuted": false,
        "source_hash": "d1cc402a",
        "execution_millis": 44,
        "execution_start": 1619183296765,
        "deepnote_cell_type": "code"
      },
      "source": "x_train = replaceNan(x_train, cols)\nx_val = replaceNan(x_val, cols)\nx_test = replaceNan(x_test, cols)",
      "execution_count": 6,
      "outputs": []
    },
    {
      "cell_type": "code",
      "metadata": {
        "tags": [],
        "cell_id": "00010-012aadbe-ab1e-4abe-a7d2-22d56f59a8e9",
        "deepnote_to_be_reexecuted": false,
        "source_hash": "e396a278",
        "execution_millis": 161,
        "execution_start": 1619183296866,
        "deepnote_cell_type": "code"
      },
      "source": "x_train",
      "execution_count": 7,
      "outputs": [
        {
          "output_type": "execute_result",
          "execution_count": 7,
          "data": {
            "application/vnd.deepnote.dataframe.v2+json": {
              "row_count": 256,
              "column_count": 61,
              "columns": [
                {
                  "name": "chroma_0_mean",
                  "dtype": "float64",
                  "stats": {
                    "unique_count": 254,
                    "nan_count": 0,
                    "min": "52.54207611083984",
                    "max": "1637.186767578125",
                    "histogram": [
                      {
                        "bin_start": 52.54207611083984,
                        "bin_end": 211.00654525756835,
                        "count": 35
                      },
                      {
                        "bin_start": 211.00654525756835,
                        "bin_end": 369.47101440429685,
                        "count": 90
                      },
                      {
                        "bin_start": 369.47101440429685,
                        "bin_end": 527.9354835510253,
                        "count": 58
                      },
                      {
                        "bin_start": 527.9354835510253,
                        "bin_end": 686.3999526977539,
                        "count": 34
                      },
                      {
                        "bin_start": 686.3999526977539,
                        "bin_end": 844.8644218444824,
                        "count": 12
                      },
                      {
                        "bin_start": 844.8644218444824,
                        "bin_end": 1003.3288909912109,
                        "count": 12
                      },
                      {
                        "bin_start": 1003.3288909912109,
                        "bin_end": 1161.7933601379393,
                        "count": 7
                      },
                      {
                        "bin_start": 1161.7933601379393,
                        "bin_end": 1320.2578292846679,
                        "count": 2
                      },
                      {
                        "bin_start": 1320.2578292846679,
                        "bin_end": 1478.7222984313964,
                        "count": 3
                      },
                      {
                        "bin_start": 1478.7222984313964,
                        "bin_end": 1637.186767578125,
                        "count": 3
                      }
                    ]
                  }
                },
                {
                  "name": "chroma_0_std",
                  "dtype": "float64",
                  "stats": {
                    "unique_count": 254,
                    "nan_count": 0,
                    "min": "108.19013214111328",
                    "max": "3421.152099609375",
                    "histogram": [
                      {
                        "bin_start": 108.19013214111328,
                        "bin_end": 439.48632888793946,
                        "count": 82
                      },
                      {
                        "bin_start": 439.48632888793946,
                        "bin_end": 770.7825256347656,
                        "count": 85
                      },
                      {
                        "bin_start": 770.7825256347656,
                        "bin_end": 1102.078722381592,
                        "count": 44
                      },
                      {
                        "bin_start": 1102.078722381592,
                        "bin_end": 1433.374919128418,
                        "count": 27
                      },
                      {
                        "bin_start": 1433.374919128418,
                        "bin_end": 1764.6711158752441,
                        "count": 8
                      },
                      {
                        "bin_start": 1764.6711158752441,
                        "bin_end": 2095.9673126220705,
                        "count": 4
                      },
                      {
                        "bin_start": 2095.9673126220705,
                        "bin_end": 2427.2635093688964,
                        "count": 1
                      },
                      {
                        "bin_start": 2427.2635093688964,
                        "bin_end": 2758.5597061157227,
                        "count": 2
                      },
                      {
                        "bin_start": 2758.5597061157227,
                        "bin_end": 3089.855902862549,
                        "count": 1
                      },
                      {
                        "bin_start": 3089.855902862549,
                        "bin_end": 3421.152099609375,
                        "count": 2
                      }
                    ]
                  }
                },
                {
                  "name": "chroma_10_mean",
                  "dtype": "float64",
                  "stats": {
                    "unique_count": 254,
                    "nan_count": 0,
                    "min": "78.05955505371094",
                    "max": "2172.719482421875",
                    "histogram": [
                      {
                        "bin_start": 78.05955505371094,
                        "bin_end": 287.52554779052736,
                        "count": 85
                      },
                      {
                        "bin_start": 287.52554779052736,
                        "bin_end": 496.9915405273438,
                        "count": 94
                      },
                      {
                        "bin_start": 496.9915405273438,
                        "bin_end": 706.4575332641602,
                        "count": 44
                      },
                      {
                        "bin_start": 706.4575332641602,
                        "bin_end": 915.9235260009766,
                        "count": 17
                      },
                      {
                        "bin_start": 915.9235260009766,
                        "bin_end": 1125.389518737793,
                        "count": 10
                      },
                      {
                        "bin_start": 1125.389518737793,
                        "bin_end": 1334.8555114746096,
                        "count": 3
                      },
                      {
                        "bin_start": 1334.8555114746096,
                        "bin_end": 1544.321504211426,
                        "count": 1
                      },
                      {
                        "bin_start": 1544.321504211426,
                        "bin_end": 1753.7874969482423,
                        "count": 0
                      },
                      {
                        "bin_start": 1753.7874969482423,
                        "bin_end": 1963.2534896850586,
                        "count": 0
                      },
                      {
                        "bin_start": 1963.2534896850586,
                        "bin_end": 2172.719482421875,
                        "count": 2
                      }
                    ]
                  }
                },
                {
                  "name": "chroma_10_std",
                  "dtype": "float64",
                  "stats": {
                    "unique_count": 254,
                    "nan_count": 0,
                    "min": "129.55377197265622",
                    "max": "4360.21533203125",
                    "histogram": [
                      {
                        "bin_start": 129.55377197265622,
                        "bin_end": 552.6199279785156,
                        "count": 132
                      },
                      {
                        "bin_start": 552.6199279785156,
                        "bin_end": 975.686083984375,
                        "count": 84
                      },
                      {
                        "bin_start": 975.686083984375,
                        "bin_end": 1398.7522399902346,
                        "count": 28
                      },
                      {
                        "bin_start": 1398.7522399902346,
                        "bin_end": 1821.8183959960938,
                        "count": 5
                      },
                      {
                        "bin_start": 1821.8183959960938,
                        "bin_end": 2244.884552001953,
                        "count": 2
                      },
                      {
                        "bin_start": 2244.884552001953,
                        "bin_end": 2667.950708007813,
                        "count": 1
                      },
                      {
                        "bin_start": 2667.950708007813,
                        "bin_end": 3091.016864013672,
                        "count": 0
                      },
                      {
                        "bin_start": 3091.016864013672,
                        "bin_end": 3514.0830200195314,
                        "count": 2
                      },
                      {
                        "bin_start": 3514.0830200195314,
                        "bin_end": 3937.1491760253907,
                        "count": 1
                      },
                      {
                        "bin_start": 3937.1491760253907,
                        "bin_end": 4360.21533203125,
                        "count": 1
                      }
                    ]
                  }
                },
                {
                  "name": "chroma_11_mean",
                  "dtype": "float64",
                  "stats": {
                    "unique_count": 254,
                    "nan_count": 0,
                    "min": "64.06268310546875",
                    "max": "1671.9365234375",
                    "histogram": [
                      {
                        "bin_start": 64.06268310546875,
                        "bin_end": 224.85006713867188,
                        "count": 58
                      },
                      {
                        "bin_start": 224.85006713867188,
                        "bin_end": 385.637451171875,
                        "count": 91
                      },
                      {
                        "bin_start": 385.637451171875,
                        "bin_end": 546.4248352050781,
                        "count": 55
                      },
                      {
                        "bin_start": 546.4248352050781,
                        "bin_end": 707.2122192382812,
                        "count": 18
                      },
                      {
                        "bin_start": 707.2122192382812,
                        "bin_end": 867.9996032714844,
                        "count": 17
                      },
                      {
                        "bin_start": 867.9996032714844,
                        "bin_end": 1028.7869873046875,
                        "count": 9
                      },
                      {
                        "bin_start": 1028.7869873046875,
                        "bin_end": 1189.5743713378906,
                        "count": 1
                      },
                      {
                        "bin_start": 1189.5743713378906,
                        "bin_end": 1350.3617553710938,
                        "count": 4
                      },
                      {
                        "bin_start": 1350.3617553710938,
                        "bin_end": 1511.1491394042969,
                        "count": 1
                      },
                      {
                        "bin_start": 1511.1491394042969,
                        "bin_end": 1671.9365234375,
                        "count": 2
                      }
                    ]
                  }
                },
                {
                  "name": "chroma_11_std",
                  "dtype": "float64",
                  "stats": {
                    "unique_count": 255,
                    "nan_count": 0,
                    "min": "117.35963439941406",
                    "max": "2345.420166015625",
                    "histogram": [
                      {
                        "bin_start": 117.35963439941406,
                        "bin_end": 340.16568756103516,
                        "count": 62
                      },
                      {
                        "bin_start": 340.16568756103516,
                        "bin_end": 562.9717407226562,
                        "count": 91
                      },
                      {
                        "bin_start": 562.9717407226562,
                        "bin_end": 785.7777938842773,
                        "count": 47
                      },
                      {
                        "bin_start": 785.7777938842773,
                        "bin_end": 1008.5838470458984,
                        "count": 25
                      },
                      {
                        "bin_start": 1008.5838470458984,
                        "bin_end": 1231.3899002075195,
                        "count": 16
                      },
                      {
                        "bin_start": 1231.3899002075195,
                        "bin_end": 1454.1959533691406,
                        "count": 6
                      },
                      {
                        "bin_start": 1454.1959533691406,
                        "bin_end": 1677.0020065307617,
                        "count": 5
                      },
                      {
                        "bin_start": 1677.0020065307617,
                        "bin_end": 1899.8080596923828,
                        "count": 2
                      },
                      {
                        "bin_start": 1899.8080596923828,
                        "bin_end": 2122.614112854004,
                        "count": 0
                      },
                      {
                        "bin_start": 2122.614112854004,
                        "bin_end": 2345.420166015625,
                        "count": 2
                      }
                    ]
                  }
                },
                {
                  "name": "chroma_1_mean",
                  "dtype": "float64",
                  "stats": {
                    "unique_count": 255,
                    "nan_count": 0,
                    "min": "50.82683181762695",
                    "max": "1438.2490234375",
                    "histogram": [
                      {
                        "bin_start": 50.82683181762695,
                        "bin_end": 189.56905097961425,
                        "count": 38
                      },
                      {
                        "bin_start": 189.56905097961425,
                        "bin_end": 328.31127014160154,
                        "count": 80
                      },
                      {
                        "bin_start": 328.31127014160154,
                        "bin_end": 467.05348930358883,
                        "count": 54
                      },
                      {
                        "bin_start": 467.05348930358883,
                        "bin_end": 605.7957084655761,
                        "count": 45
                      },
                      {
                        "bin_start": 605.7957084655761,
                        "bin_end": 744.5379276275635,
                        "count": 11
                      },
                      {
                        "bin_start": 744.5379276275635,
                        "bin_end": 883.2801467895507,
                        "count": 15
                      },
                      {
                        "bin_start": 883.2801467895507,
                        "bin_end": 1022.022365951538,
                        "count": 7
                      },
                      {
                        "bin_start": 1022.022365951538,
                        "bin_end": 1160.7645851135253,
                        "count": 2
                      },
                      {
                        "bin_start": 1160.7645851135253,
                        "bin_end": 1299.5068042755126,
                        "count": 3
                      },
                      {
                        "bin_start": 1299.5068042755126,
                        "bin_end": 1438.2490234375,
                        "count": 1
                      }
                    ]
                  }
                },
                {
                  "name": "chroma_1_std",
                  "dtype": "float64",
                  "stats": {
                    "unique_count": 255,
                    "nan_count": 0,
                    "min": "93.7698974609375",
                    "max": "3210.021484375",
                    "histogram": [
                      {
                        "bin_start": 93.7698974609375,
                        "bin_end": 405.3950561523437,
                        "count": 94
                      },
                      {
                        "bin_start": 405.3950561523437,
                        "bin_end": 717.02021484375,
                        "count": 97
                      },
                      {
                        "bin_start": 717.02021484375,
                        "bin_end": 1028.645373535156,
                        "count": 38
                      },
                      {
                        "bin_start": 1028.645373535156,
                        "bin_end": 1340.2705322265624,
                        "count": 16
                      },
                      {
                        "bin_start": 1340.2705322265624,
                        "bin_end": 1651.8956909179688,
                        "count": 5
                      },
                      {
                        "bin_start": 1651.8956909179688,
                        "bin_end": 1963.5208496093749,
                        "count": 2
                      },
                      {
                        "bin_start": 1963.5208496093749,
                        "bin_end": 2275.146008300781,
                        "count": 0
                      },
                      {
                        "bin_start": 2275.146008300781,
                        "bin_end": 2586.7711669921873,
                        "count": 2
                      },
                      {
                        "bin_start": 2586.7711669921873,
                        "bin_end": 2898.3963256835937,
                        "count": 1
                      },
                      {
                        "bin_start": 2898.3963256835937,
                        "bin_end": 3210.021484375,
                        "count": 1
                      }
                    ]
                  }
                },
                {
                  "name": "chroma_2_mean",
                  "dtype": "float64",
                  "stats": {
                    "unique_count": 255,
                    "nan_count": 0,
                    "min": "50.655052185058594",
                    "max": "2009.772216796875",
                    "histogram": [
                      {
                        "bin_start": 50.655052185058594,
                        "bin_end": 246.56676864624023,
                        "count": 54
                      },
                      {
                        "bin_start": 246.56676864624023,
                        "bin_end": 442.4784851074219,
                        "count": 90
                      },
                      {
                        "bin_start": 442.4784851074219,
                        "bin_end": 638.3902015686035,
                        "count": 67
                      },
                      {
                        "bin_start": 638.3902015686035,
                        "bin_end": 834.3019180297852,
                        "count": 21
                      },
                      {
                        "bin_start": 834.3019180297852,
                        "bin_end": 1030.2136344909668,
                        "count": 11
                      },
                      {
                        "bin_start": 1030.2136344909668,
                        "bin_end": 1226.1253509521484,
                        "count": 9
                      },
                      {
                        "bin_start": 1226.1253509521484,
                        "bin_end": 1422.03706741333,
                        "count": 2
                      },
                      {
                        "bin_start": 1422.03706741333,
                        "bin_end": 1617.9487838745117,
                        "count": 1
                      },
                      {
                        "bin_start": 1617.9487838745117,
                        "bin_end": 1813.8605003356934,
                        "count": 0
                      },
                      {
                        "bin_start": 1813.8605003356934,
                        "bin_end": 2009.772216796875,
                        "count": 1
                      }
                    ]
                  }
                },
                {
                  "name": "chroma_2_std",
                  "dtype": "float64",
                  "stats": {
                    "unique_count": 255,
                    "nan_count": 0,
                    "min": "134.36618041992188",
                    "max": "5118.2470703125",
                    "histogram": [
                      {
                        "bin_start": 134.36618041992188,
                        "bin_end": 632.7542694091796,
                        "count": 134
                      },
                      {
                        "bin_start": 632.7542694091796,
                        "bin_end": 1131.1423583984374,
                        "count": 80
                      },
                      {
                        "bin_start": 1131.1423583984374,
                        "bin_end": 1629.5304473876954,
                        "count": 32
                      },
                      {
                        "bin_start": 1629.5304473876954,
                        "bin_end": 2127.918536376953,
                        "count": 7
                      },
                      {
                        "bin_start": 2127.918536376953,
                        "bin_end": 2626.306625366211,
                        "count": 1
                      },
                      {
                        "bin_start": 2626.306625366211,
                        "bin_end": 3124.694714355469,
                        "count": 0
                      },
                      {
                        "bin_start": 3124.694714355469,
                        "bin_end": 3623.0828033447265,
                        "count": 1
                      },
                      {
                        "bin_start": 3623.0828033447265,
                        "bin_end": 4121.470892333984,
                        "count": 0
                      },
                      {
                        "bin_start": 4121.470892333984,
                        "bin_end": 4619.858981323242,
                        "count": 0
                      },
                      {
                        "bin_start": 4619.858981323242,
                        "bin_end": 5118.2470703125,
                        "count": 1
                      }
                    ]
                  }
                },
                {
                  "name": "chroma_3_mean",
                  "dtype": "float64",
                  "stats": {
                    "unique_count": 254,
                    "nan_count": 0,
                    "min": "50.9933967590332",
                    "max": "1873.2099609375",
                    "histogram": [
                      {
                        "bin_start": 50.9933967590332,
                        "bin_end": 233.21505317687988,
                        "count": 48
                      },
                      {
                        "bin_start": 233.21505317687988,
                        "bin_end": 415.43670959472655,
                        "count": 96
                      },
                      {
                        "bin_start": 415.43670959472655,
                        "bin_end": 597.6583660125732,
                        "count": 57
                      },
                      {
                        "bin_start": 597.6583660125732,
                        "bin_end": 779.8800224304199,
                        "count": 23
                      },
                      {
                        "bin_start": 779.8800224304199,
                        "bin_end": 962.1016788482666,
                        "count": 14
                      },
                      {
                        "bin_start": 962.1016788482666,
                        "bin_end": 1144.3233352661132,
                        "count": 11
                      },
                      {
                        "bin_start": 1144.3233352661132,
                        "bin_end": 1326.54499168396,
                        "count": 4
                      },
                      {
                        "bin_start": 1326.54499168396,
                        "bin_end": 1508.7666481018066,
                        "count": 1
                      },
                      {
                        "bin_start": 1508.7666481018066,
                        "bin_end": 1690.9883045196532,
                        "count": 0
                      },
                      {
                        "bin_start": 1690.9883045196532,
                        "bin_end": 1873.2099609375,
                        "count": 2
                      }
                    ]
                  }
                },
                {
                  "name": "chroma_3_std",
                  "dtype": "float64",
                  "stats": {
                    "unique_count": 251,
                    "nan_count": 0,
                    "min": "106.6735610961914",
                    "max": "4361.3251953125",
                    "histogram": [
                      {
                        "bin_start": 106.6735610961914,
                        "bin_end": 532.1387245178223,
                        "count": 119
                      },
                      {
                        "bin_start": 532.1387245178223,
                        "bin_end": 957.6038879394531,
                        "count": 88
                      },
                      {
                        "bin_start": 957.6038879394531,
                        "bin_end": 1383.069051361084,
                        "count": 30
                      },
                      {
                        "bin_start": 1383.069051361084,
                        "bin_end": 1808.5342147827148,
                        "count": 12
                      },
                      {
                        "bin_start": 1808.5342147827148,
                        "bin_end": 2233.9993782043457,
                        "count": 1
                      },
                      {
                        "bin_start": 2233.9993782043457,
                        "bin_end": 2659.4645416259764,
                        "count": 3
                      },
                      {
                        "bin_start": 2659.4645416259764,
                        "bin_end": 3084.9297050476075,
                        "count": 0
                      },
                      {
                        "bin_start": 3084.9297050476075,
                        "bin_end": 3510.394868469238,
                        "count": 0
                      },
                      {
                        "bin_start": 3510.394868469238,
                        "bin_end": 3935.860031890869,
                        "count": 2
                      },
                      {
                        "bin_start": 3935.860031890869,
                        "bin_end": 4361.3251953125,
                        "count": 1
                      }
                    ]
                  }
                },
                {
                  "name": "chroma_4_mean",
                  "dtype": "float64",
                  "stats": {
                    "unique_count": 253,
                    "nan_count": 0,
                    "min": "58.15690231323242",
                    "max": "1818.3641357421875",
                    "histogram": [
                      {
                        "bin_start": 58.15690231323242,
                        "bin_end": 234.17762565612793,
                        "count": 46
                      },
                      {
                        "bin_start": 234.17762565612793,
                        "bin_end": 410.19834899902344,
                        "count": 87
                      },
                      {
                        "bin_start": 410.19834899902344,
                        "bin_end": 586.219072341919,
                        "count": 58
                      },
                      {
                        "bin_start": 586.219072341919,
                        "bin_end": 762.2397956848145,
                        "count": 30
                      },
                      {
                        "bin_start": 762.2397956848145,
                        "bin_end": 938.26051902771,
                        "count": 14
                      },
                      {
                        "bin_start": 938.26051902771,
                        "bin_end": 1114.2812423706055,
                        "count": 9
                      },
                      {
                        "bin_start": 1114.2812423706055,
                        "bin_end": 1290.301965713501,
                        "count": 5
                      },
                      {
                        "bin_start": 1290.301965713501,
                        "bin_end": 1466.3226890563965,
                        "count": 2
                      },
                      {
                        "bin_start": 1466.3226890563965,
                        "bin_end": 1642.343412399292,
                        "count": 3
                      },
                      {
                        "bin_start": 1642.343412399292,
                        "bin_end": 1818.3641357421875,
                        "count": 2
                      }
                    ]
                  }
                },
                {
                  "name": "chroma_4_std",
                  "dtype": "float64",
                  "stats": {
                    "unique_count": 252,
                    "nan_count": 0,
                    "min": "143.45794677734375",
                    "max": "3704.673828125",
                    "histogram": [
                      {
                        "bin_start": 143.45794677734375,
                        "bin_end": 499.57953491210935,
                        "count": 90
                      },
                      {
                        "bin_start": 499.57953491210935,
                        "bin_end": 855.701123046875,
                        "count": 104
                      },
                      {
                        "bin_start": 855.701123046875,
                        "bin_end": 1211.8227111816404,
                        "count": 40
                      },
                      {
                        "bin_start": 1211.8227111816404,
                        "bin_end": 1567.9442993164062,
                        "count": 9
                      },
                      {
                        "bin_start": 1567.9442993164062,
                        "bin_end": 1924.0658874511719,
                        "count": 7
                      },
                      {
                        "bin_start": 1924.0658874511719,
                        "bin_end": 2280.187475585937,
                        "count": 2
                      },
                      {
                        "bin_start": 2280.187475585937,
                        "bin_end": 2636.309063720703,
                        "count": 2
                      },
                      {
                        "bin_start": 2636.309063720703,
                        "bin_end": 2992.4306518554686,
                        "count": 0
                      },
                      {
                        "bin_start": 2992.4306518554686,
                        "bin_end": 3348.5522399902343,
                        "count": 0
                      },
                      {
                        "bin_start": 3348.5522399902343,
                        "bin_end": 3704.673828125,
                        "count": 2
                      }
                    ]
                  }
                },
                {
                  "name": "chroma_5_mean",
                  "dtype": "float64",
                  "stats": {
                    "unique_count": 255,
                    "nan_count": 0,
                    "min": "49.92700576782226",
                    "max": "2424.1884765625",
                    "histogram": [
                      {
                        "bin_start": 49.92700576782226,
                        "bin_end": 287.35315284729,
                        "count": 82
                      },
                      {
                        "bin_start": 287.35315284729,
                        "bin_end": 524.7792999267577,
                        "count": 101
                      },
                      {
                        "bin_start": 524.7792999267577,
                        "bin_end": 762.2054470062255,
                        "count": 41
                      },
                      {
                        "bin_start": 762.2054470062255,
                        "bin_end": 999.6315940856933,
                        "count": 13
                      },
                      {
                        "bin_start": 999.6315940856933,
                        "bin_end": 1237.0577411651611,
                        "count": 10
                      },
                      {
                        "bin_start": 1237.0577411651611,
                        "bin_end": 1474.4838882446288,
                        "count": 5
                      },
                      {
                        "bin_start": 1474.4838882446288,
                        "bin_end": 1711.9100353240967,
                        "count": 1
                      },
                      {
                        "bin_start": 1711.9100353240967,
                        "bin_end": 1949.3361824035644,
                        "count": 1
                      },
                      {
                        "bin_start": 1949.3361824035644,
                        "bin_end": 2186.7623294830323,
                        "count": 1
                      },
                      {
                        "bin_start": 2186.7623294830323,
                        "bin_end": 2424.1884765625,
                        "count": 1
                      }
                    ]
                  }
                },
                {
                  "name": "chroma_5_std",
                  "dtype": "float64",
                  "stats": {
                    "unique_count": 254,
                    "nan_count": 0,
                    "min": "106.03878021240234",
                    "max": "3890.75830078125",
                    "histogram": [
                      {
                        "bin_start": 106.03878021240234,
                        "bin_end": 484.51073226928713,
                        "count": 103
                      },
                      {
                        "bin_start": 484.51073226928713,
                        "bin_end": 862.9826843261719,
                        "count": 92
                      },
                      {
                        "bin_start": 862.9826843261719,
                        "bin_end": 1241.4546363830568,
                        "count": 33
                      },
                      {
                        "bin_start": 1241.4546363830568,
                        "bin_end": 1619.9265884399415,
                        "count": 16
                      },
                      {
                        "bin_start": 1619.9265884399415,
                        "bin_end": 1998.3985404968262,
                        "count": 5
                      },
                      {
                        "bin_start": 1998.3985404968262,
                        "bin_end": 2376.8704925537113,
                        "count": 3
                      },
                      {
                        "bin_start": 2376.8704925537113,
                        "bin_end": 2755.342444610596,
                        "count": 1
                      },
                      {
                        "bin_start": 2755.342444610596,
                        "bin_end": 3133.8143966674807,
                        "count": 0
                      },
                      {
                        "bin_start": 3133.8143966674807,
                        "bin_end": 3512.2863487243653,
                        "count": 1
                      },
                      {
                        "bin_start": 3512.2863487243653,
                        "bin_end": 3890.75830078125,
                        "count": 2
                      }
                    ]
                  }
                },
                {
                  "name": "chroma_6_mean",
                  "dtype": "float64",
                  "stats": {
                    "unique_count": 255,
                    "nan_count": 0,
                    "min": "46.7408218383789",
                    "max": "1761.2755126953125",
                    "histogram": [
                      {
                        "bin_start": 46.7408218383789,
                        "bin_end": 218.19429092407228,
                        "count": 63
                      },
                      {
                        "bin_start": 218.19429092407228,
                        "bin_end": 389.64776000976565,
                        "count": 85
                      },
                      {
                        "bin_start": 389.64776000976565,
                        "bin_end": 561.1012290954591,
                        "count": 58
                      },
                      {
                        "bin_start": 561.1012290954591,
                        "bin_end": 732.5546981811524,
                        "count": 20
                      },
                      {
                        "bin_start": 732.5546981811524,
                        "bin_end": 904.0081672668457,
                        "count": 8
                      },
                      {
                        "bin_start": 904.0081672668457,
                        "bin_end": 1075.4616363525392,
                        "count": 10
                      },
                      {
                        "bin_start": 1075.4616363525392,
                        "bin_end": 1246.9151054382326,
                        "count": 6
                      },
                      {
                        "bin_start": 1246.9151054382326,
                        "bin_end": 1418.3685745239259,
                        "count": 4
                      },
                      {
                        "bin_start": 1418.3685745239259,
                        "bin_end": 1589.8220436096192,
                        "count": 1
                      },
                      {
                        "bin_start": 1589.8220436096192,
                        "bin_end": 1761.2755126953125,
                        "count": 1
                      }
                    ]
                  }
                },
                {
                  "name": "chroma_6_std",
                  "dtype": "float64",
                  "stats": {
                    "unique_count": 255,
                    "nan_count": 0,
                    "min": "90.44409942626952",
                    "max": "3771.277587890625",
                    "histogram": [
                      {
                        "bin_start": 90.44409942626952,
                        "bin_end": 458.5274482727051,
                        "count": 109
                      },
                      {
                        "bin_start": 458.5274482727051,
                        "bin_end": 826.6107971191407,
                        "count": 100
                      },
                      {
                        "bin_start": 826.6107971191407,
                        "bin_end": 1194.6941459655764,
                        "count": 31
                      },
                      {
                        "bin_start": 1194.6941459655764,
                        "bin_end": 1562.7774948120118,
                        "count": 11
                      },
                      {
                        "bin_start": 1562.7774948120118,
                        "bin_end": 1930.8608436584473,
                        "count": 2
                      },
                      {
                        "bin_start": 1930.8608436584473,
                        "bin_end": 2298.944192504883,
                        "count": 0
                      },
                      {
                        "bin_start": 2298.944192504883,
                        "bin_end": 2667.0275413513186,
                        "count": 1
                      },
                      {
                        "bin_start": 2667.0275413513186,
                        "bin_end": 3035.110890197754,
                        "count": 1
                      },
                      {
                        "bin_start": 3035.110890197754,
                        "bin_end": 3403.1942390441895,
                        "count": 0
                      },
                      {
                        "bin_start": 3403.1942390441895,
                        "bin_end": 3771.277587890625,
                        "count": 1
                      }
                    ]
                  }
                },
                {
                  "name": "chroma_7_mean",
                  "dtype": "float64",
                  "stats": {
                    "unique_count": 254,
                    "nan_count": 0,
                    "min": "49.09235000610352",
                    "max": "1937.33642578125",
                    "histogram": [
                      {
                        "bin_start": 49.09235000610352,
                        "bin_end": 237.91675758361816,
                        "count": 59
                      },
                      {
                        "bin_start": 237.91675758361816,
                        "bin_end": 426.7411651611328,
                        "count": 91
                      },
                      {
                        "bin_start": 426.7411651611328,
                        "bin_end": 615.5655727386475,
                        "count": 47
                      },
                      {
                        "bin_start": 615.5655727386475,
                        "bin_end": 804.3899803161621,
                        "count": 29
                      },
                      {
                        "bin_start": 804.3899803161621,
                        "bin_end": 993.2143878936768,
                        "count": 12
                      },
                      {
                        "bin_start": 993.2143878936768,
                        "bin_end": 1182.0387954711914,
                        "count": 8
                      },
                      {
                        "bin_start": 1182.0387954711914,
                        "bin_end": 1370.863203048706,
                        "count": 4
                      },
                      {
                        "bin_start": 1370.863203048706,
                        "bin_end": 1559.6876106262207,
                        "count": 4
                      },
                      {
                        "bin_start": 1559.6876106262207,
                        "bin_end": 1748.5120182037354,
                        "count": 1
                      },
                      {
                        "bin_start": 1748.5120182037354,
                        "bin_end": 1937.33642578125,
                        "count": 1
                      }
                    ]
                  }
                },
                {
                  "name": "chroma_7_std",
                  "dtype": "float64",
                  "stats": {
                    "unique_count": 252,
                    "nan_count": 0,
                    "min": "99.9151611328125",
                    "max": "3353.4423828125",
                    "histogram": [
                      {
                        "bin_start": 99.9151611328125,
                        "bin_end": 425.26788330078125,
                        "count": 73
                      },
                      {
                        "bin_start": 425.26788330078125,
                        "bin_end": 750.62060546875,
                        "count": 104
                      },
                      {
                        "bin_start": 750.62060546875,
                        "bin_end": 1075.9733276367188,
                        "count": 42
                      },
                      {
                        "bin_start": 1075.9733276367188,
                        "bin_end": 1401.3260498046875,
                        "count": 17
                      },
                      {
                        "bin_start": 1401.3260498046875,
                        "bin_end": 1726.6787719726562,
                        "count": 10
                      },
                      {
                        "bin_start": 1726.6787719726562,
                        "bin_end": 2052.031494140625,
                        "count": 4
                      },
                      {
                        "bin_start": 2052.031494140625,
                        "bin_end": 2377.3842163085938,
                        "count": 3
                      },
                      {
                        "bin_start": 2377.3842163085938,
                        "bin_end": 2702.7369384765625,
                        "count": 2
                      },
                      {
                        "bin_start": 2702.7369384765625,
                        "bin_end": 3028.0896606445312,
                        "count": 0
                      },
                      {
                        "bin_start": 3028.0896606445312,
                        "bin_end": 3353.4423828125,
                        "count": 1
                      }
                    ]
                  }
                },
                {
                  "name": "chroma_8_mean",
                  "dtype": "float64",
                  "stats": {
                    "unique_count": 255,
                    "nan_count": 0,
                    "min": "61.1784782409668",
                    "max": "2293.72314453125",
                    "histogram": [
                      {
                        "bin_start": 61.1784782409668,
                        "bin_end": 284.43294486999514,
                        "count": 93
                      },
                      {
                        "bin_start": 284.43294486999514,
                        "bin_end": 507.6874114990234,
                        "count": 85
                      },
                      {
                        "bin_start": 507.6874114990234,
                        "bin_end": 730.9418781280517,
                        "count": 46
                      },
                      {
                        "bin_start": 730.9418781280517,
                        "bin_end": 954.19634475708,
                        "count": 18
                      },
                      {
                        "bin_start": 954.19634475708,
                        "bin_end": 1177.4508113861084,
                        "count": 4
                      },
                      {
                        "bin_start": 1177.4508113861084,
                        "bin_end": 1400.7052780151366,
                        "count": 4
                      },
                      {
                        "bin_start": 1400.7052780151366,
                        "bin_end": 1623.959744644165,
                        "count": 4
                      },
                      {
                        "bin_start": 1623.959744644165,
                        "bin_end": 1847.2142112731933,
                        "count": 1
                      },
                      {
                        "bin_start": 1847.2142112731933,
                        "bin_end": 2070.4686779022213,
                        "count": 0
                      },
                      {
                        "bin_start": 2070.4686779022213,
                        "bin_end": 2293.72314453125,
                        "count": 1
                      }
                    ]
                  }
                },
                {
                  "name": "chroma_8_std",
                  "dtype": "float64",
                  "stats": {
                    "unique_count": 254,
                    "nan_count": 0,
                    "min": "118.6199722290039",
                    "max": "5159.00439453125",
                    "histogram": [
                      {
                        "bin_start": 118.6199722290039,
                        "bin_end": 622.6584144592285,
                        "count": 158
                      },
                      {
                        "bin_start": 622.6584144592285,
                        "bin_end": 1126.6968566894532,
                        "count": 75
                      },
                      {
                        "bin_start": 1126.6968566894532,
                        "bin_end": 1630.735298919678,
                        "count": 16
                      },
                      {
                        "bin_start": 1630.735298919678,
                        "bin_end": 2134.7737411499024,
                        "count": 4
                      },
                      {
                        "bin_start": 2134.7737411499024,
                        "bin_end": 2638.812183380127,
                        "count": 1
                      },
                      {
                        "bin_start": 2638.812183380127,
                        "bin_end": 3142.850625610352,
                        "count": 0
                      },
                      {
                        "bin_start": 3142.850625610352,
                        "bin_end": 3646.8890678405764,
                        "count": 0
                      },
                      {
                        "bin_start": 3646.8890678405764,
                        "bin_end": 4150.927510070801,
                        "count": 0
                      },
                      {
                        "bin_start": 4150.927510070801,
                        "bin_end": 4654.965952301026,
                        "count": 1
                      },
                      {
                        "bin_start": 4654.965952301026,
                        "bin_end": 5159.00439453125,
                        "count": 1
                      }
                    ]
                  }
                },
                {
                  "name": "chroma_9_mean",
                  "dtype": "float64",
                  "stats": {
                    "unique_count": 252,
                    "nan_count": 0,
                    "min": "42.69149398803711",
                    "max": "3728.2763671875",
                    "histogram": [
                      {
                        "bin_start": 42.69149398803711,
                        "bin_end": 411.2499813079834,
                        "count": 126
                      },
                      {
                        "bin_start": 411.2499813079834,
                        "bin_end": 779.8084686279296,
                        "count": 94
                      },
                      {
                        "bin_start": 779.8084686279296,
                        "bin_end": 1148.3669559478758,
                        "count": 27
                      },
                      {
                        "bin_start": 1148.3669559478758,
                        "bin_end": 1516.9254432678222,
                        "count": 7
                      },
                      {
                        "bin_start": 1516.9254432678222,
                        "bin_end": 1885.4839305877686,
                        "count": 1
                      },
                      {
                        "bin_start": 1885.4839305877686,
                        "bin_end": 2254.0424179077145,
                        "count": 0
                      },
                      {
                        "bin_start": 2254.0424179077145,
                        "bin_end": 2622.600905227661,
                        "count": 0
                      },
                      {
                        "bin_start": 2622.600905227661,
                        "bin_end": 2991.1593925476072,
                        "count": 0
                      },
                      {
                        "bin_start": 2991.1593925476072,
                        "bin_end": 3359.7178798675536,
                        "count": 0
                      },
                      {
                        "bin_start": 3359.7178798675536,
                        "bin_end": 3728.2763671875,
                        "count": 1
                      }
                    ]
                  }
                },
                {
                  "name": "chroma_9_std",
                  "dtype": "float64",
                  "stats": {
                    "unique_count": 254,
                    "nan_count": 0,
                    "min": "109.21623992919922",
                    "max": "6856.94677734375",
                    "histogram": [
                      {
                        "bin_start": 109.21623992919922,
                        "bin_end": 783.9892936706543,
                        "count": 175
                      },
                      {
                        "bin_start": 783.9892936706543,
                        "bin_end": 1458.7623474121094,
                        "count": 65
                      },
                      {
                        "bin_start": 1458.7623474121094,
                        "bin_end": 2133.5354011535646,
                        "count": 11
                      },
                      {
                        "bin_start": 2133.5354011535646,
                        "bin_end": 2808.3084548950196,
                        "count": 1
                      },
                      {
                        "bin_start": 2808.3084548950196,
                        "bin_end": 3483.0815086364746,
                        "count": 3
                      },
                      {
                        "bin_start": 3483.0815086364746,
                        "bin_end": 4157.85456237793,
                        "count": 0
                      },
                      {
                        "bin_start": 4157.85456237793,
                        "bin_end": 4832.627616119385,
                        "count": 0
                      },
                      {
                        "bin_start": 4832.627616119385,
                        "bin_end": 5507.40066986084,
                        "count": 0
                      },
                      {
                        "bin_start": 5507.40066986084,
                        "bin_end": 6182.1737236022955,
                        "count": 0
                      },
                      {
                        "bin_start": 6182.1737236022955,
                        "bin_end": 6856.94677734375,
                        "count": 1
                      }
                    ]
                  }
                },
                {
                  "name": "chroma_centroid_mean",
                  "dtype": "float64",
                  "stats": {
                    "unique_count": 254,
                    "nan_count": 0,
                    "min": "4.156126501309105",
                    "max": "6.997215406166254",
                    "histogram": [
                      {
                        "bin_start": 4.156126501309105,
                        "bin_end": 4.44023539179482,
                        "count": 1
                      },
                      {
                        "bin_start": 4.44023539179482,
                        "bin_end": 4.724344282280534,
                        "count": 3
                      },
                      {
                        "bin_start": 4.724344282280534,
                        "bin_end": 5.00845317276625,
                        "count": 11
                      },
                      {
                        "bin_start": 5.00845317276625,
                        "bin_end": 5.292562063251965,
                        "count": 43
                      },
                      {
                        "bin_start": 5.292562063251965,
                        "bin_end": 5.576670953737679,
                        "count": 111
                      },
                      {
                        "bin_start": 5.576670953737679,
                        "bin_end": 5.860779844223394,
                        "count": 65
                      },
                      {
                        "bin_start": 5.860779844223394,
                        "bin_end": 6.1448887347091095,
                        "count": 14
                      },
                      {
                        "bin_start": 6.1448887347091095,
                        "bin_end": 6.428997625194825,
                        "count": 7
                      },
                      {
                        "bin_start": 6.428997625194825,
                        "bin_end": 6.713106515680539,
                        "count": 0
                      },
                      {
                        "bin_start": 6.713106515680539,
                        "bin_end": 6.997215406166254,
                        "count": 1
                      }
                    ]
                  }
                },
                {
                  "name": "chroma_flux_mean",
                  "dtype": "float64",
                  "stats": {
                    "unique_count": 251,
                    "nan_count": 0,
                    "min": "238.0198516845703",
                    "max": "4745.75439453125",
                    "histogram": [
                      {
                        "bin_start": 238.0198516845703,
                        "bin_end": 688.7933059692383,
                        "count": 39
                      },
                      {
                        "bin_start": 688.7933059692383,
                        "bin_end": 1139.5667602539063,
                        "count": 84
                      },
                      {
                        "bin_start": 1139.5667602539063,
                        "bin_end": 1590.3402145385744,
                        "count": 78
                      },
                      {
                        "bin_start": 1590.3402145385744,
                        "bin_end": 2041.1136688232423,
                        "count": 29
                      },
                      {
                        "bin_start": 2041.1136688232423,
                        "bin_end": 2491.88712310791,
                        "count": 14
                      },
                      {
                        "bin_start": 2491.88712310791,
                        "bin_end": 2942.6605773925785,
                        "count": 8
                      },
                      {
                        "bin_start": 2942.6605773925785,
                        "bin_end": 3393.4340316772464,
                        "count": 2
                      },
                      {
                        "bin_start": 3393.4340316772464,
                        "bin_end": 3844.2074859619142,
                        "count": 1
                      },
                      {
                        "bin_start": 3844.2074859619142,
                        "bin_end": 4294.980940246582,
                        "count": 0
                      },
                      {
                        "bin_start": 4294.980940246582,
                        "bin_end": 4745.75439453125,
                        "count": 1
                      }
                    ]
                  }
                },
                {
                  "name": "chroma_max",
                  "dtype": "float64",
                  "stats": {
                    "unique_count": 255,
                    "nan_count": 0,
                    "min": "2342.540283203125",
                    "max": "48826.36328125",
                    "histogram": [
                      {
                        "bin_start": 2342.540283203125,
                        "bin_end": 6990.922583007812,
                        "count": 37
                      },
                      {
                        "bin_start": 6990.922583007812,
                        "bin_end": 11639.3048828125,
                        "count": 91
                      },
                      {
                        "bin_start": 11639.3048828125,
                        "bin_end": 16287.687182617186,
                        "count": 61
                      },
                      {
                        "bin_start": 16287.687182617186,
                        "bin_end": 20936.069482421874,
                        "count": 36
                      },
                      {
                        "bin_start": 20936.069482421874,
                        "bin_end": 25584.451782226562,
                        "count": 16
                      },
                      {
                        "bin_start": 25584.451782226562,
                        "bin_end": 30232.834082031248,
                        "count": 3
                      },
                      {
                        "bin_start": 30232.834082031248,
                        "bin_end": 34881.21638183593,
                        "count": 5
                      },
                      {
                        "bin_start": 34881.21638183593,
                        "bin_end": 39529.59868164062,
                        "count": 4
                      },
                      {
                        "bin_start": 39529.59868164062,
                        "bin_end": 44177.98098144531,
                        "count": 2
                      },
                      {
                        "bin_start": 44177.98098144531,
                        "bin_end": 48826.36328125,
                        "count": 1
                      }
                    ]
                  }
                },
                {
                  "name": "chroma_min",
                  "dtype": "float64",
                  "stats": {
                    "unique_count": 250,
                    "nan_count": 0,
                    "min": "0.0370473116636276",
                    "max": "158.10586547851562",
                    "histogram": [
                      {
                        "bin_start": 0.0370473116636276,
                        "bin_end": 15.843929128348828,
                        "count": 232
                      },
                      {
                        "bin_start": 15.843929128348828,
                        "bin_end": 31.650810945034028,
                        "count": 17
                      },
                      {
                        "bin_start": 31.650810945034028,
                        "bin_end": 47.45769276171923,
                        "count": 3
                      },
                      {
                        "bin_start": 47.45769276171923,
                        "bin_end": 63.26457457840443,
                        "count": 3
                      },
                      {
                        "bin_start": 63.26457457840443,
                        "bin_end": 79.07145639508963,
                        "count": 0
                      },
                      {
                        "bin_start": 79.07145639508963,
                        "bin_end": 94.87833821177483,
                        "count": 0
                      },
                      {
                        "bin_start": 94.87833821177483,
                        "bin_end": 110.68522002846002,
                        "count": 0
                      },
                      {
                        "bin_start": 110.68522002846002,
                        "bin_end": 126.49210184514523,
                        "count": 0
                      },
                      {
                        "bin_start": 126.49210184514523,
                        "bin_end": 142.29898366183042,
                        "count": 0
                      },
                      {
                        "bin_start": 142.29898366183042,
                        "bin_end": 158.10586547851562,
                        "count": 1
                      }
                    ]
                  }
                },
                {
                  "name": "chroma_spread_mean",
                  "dtype": "float64",
                  "stats": {
                    "unique_count": 254,
                    "nan_count": 0,
                    "min": "2.9990216949289152",
                    "max": "13.669710824703946",
                    "histogram": [
                      {
                        "bin_start": 2.9990216949289152,
                        "bin_end": 4.0660906079064185,
                        "count": 1
                      },
                      {
                        "bin_start": 4.0660906079064185,
                        "bin_end": 5.133159520883922,
                        "count": 3
                      },
                      {
                        "bin_start": 5.133159520883922,
                        "bin_end": 6.200228433861424,
                        "count": 2
                      },
                      {
                        "bin_start": 6.200228433861424,
                        "bin_end": 7.2672973468389275,
                        "count": 10
                      },
                      {
                        "bin_start": 7.2672973468389275,
                        "bin_end": 8.33436625981643,
                        "count": 18
                      },
                      {
                        "bin_start": 8.33436625981643,
                        "bin_end": 9.401435172793933,
                        "count": 46
                      },
                      {
                        "bin_start": 9.401435172793933,
                        "bin_end": 10.468504085771436,
                        "count": 78
                      },
                      {
                        "bin_start": 10.468504085771436,
                        "bin_end": 11.53557299874894,
                        "count": 74
                      },
                      {
                        "bin_start": 11.53557299874894,
                        "bin_end": 12.602641911726442,
                        "count": 21
                      },
                      {
                        "bin_start": 12.602641911726442,
                        "bin_end": 13.669710824703946,
                        "count": 3
                      }
                    ]
                  }
                },
                {
                  "name": "mfcc_10_mean",
                  "dtype": "float64",
                  "stats": {
                    "unique_count": 254,
                    "nan_count": 0,
                    "min": "-0.7162758111953735",
                    "max": "1.1941636800765991",
                    "histogram": [
                      {
                        "bin_start": -0.7162758111953735,
                        "bin_end": -0.5252318620681763,
                        "count": 6
                      },
                      {
                        "bin_start": -0.5252318620681763,
                        "bin_end": -0.334187912940979,
                        "count": 15
                      },
                      {
                        "bin_start": -0.334187912940979,
                        "bin_end": -0.1431439638137817,
                        "count": 40
                      },
                      {
                        "bin_start": -0.1431439638137817,
                        "bin_end": 0.04789998531341555,
                        "count": 72
                      },
                      {
                        "bin_start": 0.04789998531341555,
                        "bin_end": 0.2389439344406128,
                        "count": 74
                      },
                      {
                        "bin_start": 0.2389439344406128,
                        "bin_end": 0.42998788356781015,
                        "count": 35
                      },
                      {
                        "bin_start": 0.42998788356781015,
                        "bin_end": 0.6210318326950073,
                        "count": 12
                      },
                      {
                        "bin_start": 0.6210318326950073,
                        "bin_end": 0.8120757818222046,
                        "count": 1
                      },
                      {
                        "bin_start": 0.8120757818222046,
                        "bin_end": 1.003119730949402,
                        "count": 0
                      },
                      {
                        "bin_start": 1.003119730949402,
                        "bin_end": 1.1941636800765991,
                        "count": 1
                      }
                    ]
                  }
                },
                {
                  "name": "mfcc_10_std",
                  "dtype": "float64",
                  "stats": {
                    "unique_count": 255,
                    "nan_count": 0,
                    "min": "0.3966389298439026",
                    "max": "1.197695255279541",
                    "histogram": [
                      {
                        "bin_start": 0.3966389298439026,
                        "bin_end": 0.47674456238746643,
                        "count": 36
                      },
                      {
                        "bin_start": 0.47674456238746643,
                        "bin_end": 0.5568501949310303,
                        "count": 71
                      },
                      {
                        "bin_start": 0.5568501949310303,
                        "bin_end": 0.6369558274745941,
                        "count": 54
                      },
                      {
                        "bin_start": 0.6369558274745941,
                        "bin_end": 0.717061460018158,
                        "count": 36
                      },
                      {
                        "bin_start": 0.717061460018158,
                        "bin_end": 0.7971670925617218,
                        "count": 20
                      },
                      {
                        "bin_start": 0.7971670925617218,
                        "bin_end": 0.8772727251052856,
                        "count": 16
                      },
                      {
                        "bin_start": 0.8772727251052856,
                        "bin_end": 0.9573783576488495,
                        "count": 7
                      },
                      {
                        "bin_start": 0.9573783576488495,
                        "bin_end": 1.0374839901924133,
                        "count": 4
                      },
                      {
                        "bin_start": 1.0374839901924133,
                        "bin_end": 1.1175896227359772,
                        "count": 7
                      },
                      {
                        "bin_start": 1.1175896227359772,
                        "bin_end": 1.197695255279541,
                        "count": 5
                      }
                    ]
                  }
                },
                {
                  "name": "mfcc_11_mean",
                  "dtype": "float64",
                  "stats": {
                    "unique_count": 254,
                    "nan_count": 0,
                    "min": "-0.5163699984550476",
                    "max": "0.4219220280647278",
                    "histogram": [
                      {
                        "bin_start": -0.5163699984550476,
                        "bin_end": -0.4225407958030701,
                        "count": 9
                      },
                      {
                        "bin_start": -0.4225407958030701,
                        "bin_end": -0.32871159315109255,
                        "count": 8
                      },
                      {
                        "bin_start": -0.32871159315109255,
                        "bin_end": -0.23488239049911497,
                        "count": 13
                      },
                      {
                        "bin_start": -0.23488239049911497,
                        "bin_end": -0.14105318784713744,
                        "count": 29
                      },
                      {
                        "bin_start": -0.14105318784713744,
                        "bin_end": -0.04722398519515991,
                        "count": 39
                      },
                      {
                        "bin_start": -0.04722398519515991,
                        "bin_end": 0.04660521745681767,
                        "count": 56
                      },
                      {
                        "bin_start": 0.04660521745681767,
                        "bin_end": 0.14043442010879514,
                        "count": 42
                      },
                      {
                        "bin_start": 0.14043442010879514,
                        "bin_end": 0.23426362276077273,
                        "count": 31
                      },
                      {
                        "bin_start": 0.23426362276077273,
                        "bin_end": 0.3280928254127503,
                        "count": 17
                      },
                      {
                        "bin_start": 0.3280928254127503,
                        "bin_end": 0.4219220280647278,
                        "count": 12
                      }
                    ]
                  }
                },
                {
                  "name": "mfcc_11_std",
                  "dtype": "float64",
                  "stats": {
                    "unique_count": 255,
                    "nan_count": 0,
                    "min": "0.3773218393325805",
                    "max": "1.4213732481002808",
                    "histogram": [
                      {
                        "bin_start": 0.3773218393325805,
                        "bin_end": 0.48172698020935056,
                        "count": 55
                      },
                      {
                        "bin_start": 0.48172698020935056,
                        "bin_end": 0.5861321210861206,
                        "count": 77
                      },
                      {
                        "bin_start": 0.5861321210861206,
                        "bin_end": 0.6905372619628907,
                        "count": 53
                      },
                      {
                        "bin_start": 0.6905372619628907,
                        "bin_end": 0.7949424028396606,
                        "count": 31
                      },
                      {
                        "bin_start": 0.7949424028396606,
                        "bin_end": 0.8993475437164307,
                        "count": 22
                      },
                      {
                        "bin_start": 0.8993475437164307,
                        "bin_end": 1.0037526845932008,
                        "count": 7
                      },
                      {
                        "bin_start": 1.0037526845932008,
                        "bin_end": 1.1081578254699707,
                        "count": 8
                      },
                      {
                        "bin_start": 1.1081578254699707,
                        "bin_end": 1.2125629663467408,
                        "count": 1
                      },
                      {
                        "bin_start": 1.2125629663467408,
                        "bin_end": 1.3169681072235107,
                        "count": 0
                      },
                      {
                        "bin_start": 1.3169681072235107,
                        "bin_end": 1.4213732481002808,
                        "count": 2
                      }
                    ]
                  }
                },
                {
                  "name": "mfcc_12_mean",
                  "dtype": "float64",
                  "stats": {
                    "unique_count": 251,
                    "nan_count": 0,
                    "min": "-0.9038108587265016",
                    "max": "0.8736705183982849",
                    "histogram": [
                      {
                        "bin_start": -0.9038108587265016,
                        "bin_end": -0.7260627210140229,
                        "count": 1
                      },
                      {
                        "bin_start": -0.7260627210140229,
                        "bin_end": -0.5483145833015444,
                        "count": 6
                      },
                      {
                        "bin_start": -0.5483145833015444,
                        "bin_end": -0.3705664455890657,
                        "count": 12
                      },
                      {
                        "bin_start": -0.3705664455890657,
                        "bin_end": -0.19281830787658705,
                        "count": 23
                      },
                      {
                        "bin_start": -0.19281830787658705,
                        "bin_end": -0.015070170164108387,
                        "count": 72
                      },
                      {
                        "bin_start": -0.015070170164108387,
                        "bin_end": 0.16267796754837016,
                        "count": 78
                      },
                      {
                        "bin_start": 0.16267796754837016,
                        "bin_end": 0.34042610526084893,
                        "count": 55
                      },
                      {
                        "bin_start": 0.34042610526084893,
                        "bin_end": 0.5181742429733275,
                        "count": 4
                      },
                      {
                        "bin_start": 0.5181742429733275,
                        "bin_end": 0.695922380685806,
                        "count": 4
                      },
                      {
                        "bin_start": 0.695922380685806,
                        "bin_end": 0.8736705183982849,
                        "count": 1
                      }
                    ]
                  }
                },
                {
                  "name": "mfcc_12_std",
                  "dtype": "float64",
                  "stats": {
                    "unique_count": 253,
                    "nan_count": 0,
                    "min": "0.3686127066612244",
                    "max": "1.4565759897232056",
                    "histogram": [
                      {
                        "bin_start": 0.3686127066612244,
                        "bin_end": 0.47740903496742254,
                        "count": 58
                      },
                      {
                        "bin_start": 0.47740903496742254,
                        "bin_end": 0.5862053632736206,
                        "count": 82
                      },
                      {
                        "bin_start": 0.5862053632736206,
                        "bin_end": 0.6950016915798187,
                        "count": 57
                      },
                      {
                        "bin_start": 0.6950016915798187,
                        "bin_end": 0.8037980198860168,
                        "count": 29
                      },
                      {
                        "bin_start": 0.8037980198860168,
                        "bin_end": 0.912594348192215,
                        "count": 15
                      },
                      {
                        "bin_start": 0.912594348192215,
                        "bin_end": 1.021390676498413,
                        "count": 8
                      },
                      {
                        "bin_start": 1.021390676498413,
                        "bin_end": 1.1301870048046112,
                        "count": 1
                      },
                      {
                        "bin_start": 1.1301870048046112,
                        "bin_end": 1.2389833331108093,
                        "count": 4
                      },
                      {
                        "bin_start": 1.2389833331108093,
                        "bin_end": 1.3477796614170074,
                        "count": 0
                      },
                      {
                        "bin_start": 1.3477796614170074,
                        "bin_end": 1.4565759897232056,
                        "count": 2
                      }
                    ]
                  }
                },
                {
                  "name": "mfcc_13_mean",
                  "dtype": "float64",
                  "stats": {
                    "unique_count": 255,
                    "nan_count": 0,
                    "min": "-0.6623488068580627",
                    "max": "0.8953871726989746",
                    "histogram": [
                      {
                        "bin_start": -0.6623488068580627,
                        "bin_end": -0.506575208902359,
                        "count": 6
                      },
                      {
                        "bin_start": -0.506575208902359,
                        "bin_end": -0.3508016109466553,
                        "count": 9
                      },
                      {
                        "bin_start": -0.3508016109466553,
                        "bin_end": -0.19502801299095157,
                        "count": 29
                      },
                      {
                        "bin_start": -0.19502801299095157,
                        "bin_end": -0.03925441503524785,
                        "count": 56
                      },
                      {
                        "bin_start": -0.03925441503524785,
                        "bin_end": 0.11651918292045593,
                        "count": 84
                      },
                      {
                        "bin_start": 0.11651918292045593,
                        "bin_end": 0.2722927808761596,
                        "count": 50
                      },
                      {
                        "bin_start": 0.2722927808761596,
                        "bin_end": 0.42806637883186327,
                        "count": 14
                      },
                      {
                        "bin_start": 0.42806637883186327,
                        "bin_end": 0.583839976787567,
                        "count": 7
                      },
                      {
                        "bin_start": 0.583839976787567,
                        "bin_end": 0.7396135747432708,
                        "count": 0
                      },
                      {
                        "bin_start": 0.7396135747432708,
                        "bin_end": 0.8953871726989746,
                        "count": 1
                      }
                    ]
                  }
                },
                {
                  "name": "mfcc_13_std",
                  "dtype": "float64",
                  "stats": {
                    "unique_count": 255,
                    "nan_count": 0,
                    "min": "0.3210088312625885",
                    "max": "1.3367711305618286",
                    "histogram": [
                      {
                        "bin_start": 0.3210088312625885,
                        "bin_end": 0.4225850611925125,
                        "count": 18
                      },
                      {
                        "bin_start": 0.4225850611925125,
                        "bin_end": 0.5241612911224365,
                        "count": 82
                      },
                      {
                        "bin_start": 0.5241612911224365,
                        "bin_end": 0.6257375210523606,
                        "count": 65
                      },
                      {
                        "bin_start": 0.6257375210523606,
                        "bin_end": 0.7273137509822846,
                        "count": 40
                      },
                      {
                        "bin_start": 0.7273137509822846,
                        "bin_end": 0.8288899809122086,
                        "count": 25
                      },
                      {
                        "bin_start": 0.8288899809122086,
                        "bin_end": 0.9304662108421327,
                        "count": 16
                      },
                      {
                        "bin_start": 0.9304662108421327,
                        "bin_end": 1.0320424407720568,
                        "count": 7
                      },
                      {
                        "bin_start": 1.0320424407720568,
                        "bin_end": 1.1336186707019806,
                        "count": 1
                      },
                      {
                        "bin_start": 1.1336186707019806,
                        "bin_end": 1.2351949006319045,
                        "count": 0
                      },
                      {
                        "bin_start": 1.2351949006319045,
                        "bin_end": 1.3367711305618286,
                        "count": 2
                      }
                    ]
                  }
                },
                {
                  "name": "mfcc_2_mean",
                  "dtype": "float64",
                  "stats": {
                    "unique_count": 254,
                    "nan_count": 0,
                    "min": "-0.98384690284729",
                    "max": "0.4751723408699036",
                    "histogram": [
                      {
                        "bin_start": -0.98384690284729,
                        "bin_end": -0.8379449784755707,
                        "count": 1
                      },
                      {
                        "bin_start": -0.8379449784755707,
                        "bin_end": -0.6920430541038514,
                        "count": 3
                      },
                      {
                        "bin_start": -0.6920430541038514,
                        "bin_end": -0.5461411297321319,
                        "count": 4
                      },
                      {
                        "bin_start": -0.5461411297321319,
                        "bin_end": -0.4002392053604126,
                        "count": 6
                      },
                      {
                        "bin_start": -0.4002392053604126,
                        "bin_end": -0.25433728098869324,
                        "count": 14
                      },
                      {
                        "bin_start": -0.25433728098869324,
                        "bin_end": -0.10843535661697379,
                        "count": 42
                      },
                      {
                        "bin_start": -0.10843535661697379,
                        "bin_end": 0.03746656775474544,
                        "count": 87
                      },
                      {
                        "bin_start": 0.03746656775474544,
                        "bin_end": 0.1833684921264649,
                        "count": 56
                      },
                      {
                        "bin_start": 0.1833684921264649,
                        "bin_end": 0.32927041649818434,
                        "count": 36
                      },
                      {
                        "bin_start": 0.32927041649818434,
                        "bin_end": 0.4751723408699036,
                        "count": 7
                      }
                    ]
                  }
                },
                {
                  "name": "mfcc_2_std",
                  "dtype": "float64",
                  "stats": {
                    "unique_count": 251,
                    "nan_count": 0,
                    "min": "0.4976522326469421",
                    "max": "1.8585717678070068",
                    "histogram": [
                      {
                        "bin_start": 0.4976522326469421,
                        "bin_end": 0.6337441861629486,
                        "count": 9
                      },
                      {
                        "bin_start": 0.6337441861629486,
                        "bin_end": 0.769836139678955,
                        "count": 25
                      },
                      {
                        "bin_start": 0.769836139678955,
                        "bin_end": 0.9059280931949616,
                        "count": 47
                      },
                      {
                        "bin_start": 0.9059280931949616,
                        "bin_end": 1.042020046710968,
                        "count": 56
                      },
                      {
                        "bin_start": 1.042020046710968,
                        "bin_end": 1.1781120002269745,
                        "count": 50
                      },
                      {
                        "bin_start": 1.1781120002269745,
                        "bin_end": 1.314203953742981,
                        "count": 39
                      },
                      {
                        "bin_start": 1.314203953742981,
                        "bin_end": 1.4502959072589874,
                        "count": 11
                      },
                      {
                        "bin_start": 1.4502959072589874,
                        "bin_end": 1.586387860774994,
                        "count": 11
                      },
                      {
                        "bin_start": 1.586387860774994,
                        "bin_end": 1.7224798142910005,
                        "count": 5
                      },
                      {
                        "bin_start": 1.7224798142910005,
                        "bin_end": 1.8585717678070068,
                        "count": 3
                      }
                    ]
                  }
                },
                {
                  "name": "mfcc_3_mean",
                  "dtype": "float64",
                  "stats": {
                    "unique_count": 255,
                    "nan_count": 0,
                    "min": "-0.8018391728401184",
                    "max": "0.6993414759635925",
                    "histogram": [
                      {
                        "bin_start": -0.8018391728401184,
                        "bin_end": -0.6517211079597474,
                        "count": 2
                      },
                      {
                        "bin_start": -0.6517211079597474,
                        "bin_end": -0.5016030430793762,
                        "count": 1
                      },
                      {
                        "bin_start": -0.5016030430793762,
                        "bin_end": -0.3514849781990051,
                        "count": 6
                      },
                      {
                        "bin_start": -0.3514849781990051,
                        "bin_end": -0.201366913318634,
                        "count": 25
                      },
                      {
                        "bin_start": -0.201366913318634,
                        "bin_end": -0.05124884843826294,
                        "count": 57
                      },
                      {
                        "bin_start": -0.05124884843826294,
                        "bin_end": 0.09886921644210822,
                        "count": 70
                      },
                      {
                        "bin_start": 0.09886921644210822,
                        "bin_end": 0.24898728132247938,
                        "count": 66
                      },
                      {
                        "bin_start": 0.24898728132247938,
                        "bin_end": 0.39910534620285043,
                        "count": 24
                      },
                      {
                        "bin_start": 0.39910534620285043,
                        "bin_end": 0.5492234110832215,
                        "count": 4
                      },
                      {
                        "bin_start": 0.5492234110832215,
                        "bin_end": 0.6993414759635925,
                        "count": 1
                      }
                    ]
                  }
                },
                {
                  "name": "mfcc_3_std",
                  "dtype": "float64",
                  "stats": {
                    "unique_count": 251,
                    "nan_count": 0,
                    "min": "0.4450660049915313",
                    "max": "1.578941822052002",
                    "histogram": [
                      {
                        "bin_start": 0.4450660049915313,
                        "bin_end": 0.5584535866975784,
                        "count": 12
                      },
                      {
                        "bin_start": 0.5584535866975784,
                        "bin_end": 0.6718411684036254,
                        "count": 57
                      },
                      {
                        "bin_start": 0.6718411684036254,
                        "bin_end": 0.7852287501096724,
                        "count": 33
                      },
                      {
                        "bin_start": 0.7852287501096724,
                        "bin_end": 0.8986163318157195,
                        "count": 56
                      },
                      {
                        "bin_start": 0.8986163318157195,
                        "bin_end": 1.0120039135217667,
                        "count": 36
                      },
                      {
                        "bin_start": 1.0120039135217667,
                        "bin_end": 1.1253914952278137,
                        "count": 30
                      },
                      {
                        "bin_start": 1.1253914952278137,
                        "bin_end": 1.2387790769338607,
                        "count": 21
                      },
                      {
                        "bin_start": 1.2387790769338607,
                        "bin_end": 1.3521666586399077,
                        "count": 9
                      },
                      {
                        "bin_start": 1.3521666586399077,
                        "bin_end": 1.465554240345955,
                        "count": 1
                      },
                      {
                        "bin_start": 1.465554240345955,
                        "bin_end": 1.578941822052002,
                        "count": 1
                      }
                    ]
                  }
                },
                {
                  "name": "mfcc_4_mean",
                  "dtype": "float64",
                  "stats": {
                    "unique_count": 254,
                    "nan_count": 0,
                    "min": "-2.831594944000244",
                    "max": "2.0191006660461426",
                    "histogram": [
                      {
                        "bin_start": -2.831594944000244,
                        "bin_end": -2.3465253829956056,
                        "count": 2
                      },
                      {
                        "bin_start": -2.3465253829956056,
                        "bin_end": -1.8614558219909667,
                        "count": 1
                      },
                      {
                        "bin_start": -1.8614558219909667,
                        "bin_end": -1.3763862609863282,
                        "count": 8
                      },
                      {
                        "bin_start": -1.3763862609863282,
                        "bin_end": -0.8913166999816895,
                        "count": 39
                      },
                      {
                        "bin_start": -0.8913166999816895,
                        "bin_end": -0.4062471389770508,
                        "count": 46
                      },
                      {
                        "bin_start": -0.4062471389770508,
                        "bin_end": 0.07882242202758771,
                        "count": 54
                      },
                      {
                        "bin_start": 0.07882242202758771,
                        "bin_end": 0.5638919830322267,
                        "count": 59
                      },
                      {
                        "bin_start": 0.5638919830322267,
                        "bin_end": 1.0489615440368651,
                        "count": 27
                      },
                      {
                        "bin_start": 1.0489615440368651,
                        "bin_end": 1.534031105041504,
                        "count": 14
                      },
                      {
                        "bin_start": 1.534031105041504,
                        "bin_end": 2.0191006660461426,
                        "count": 6
                      }
                    ]
                  }
                },
                {
                  "name": "mfcc_4_std",
                  "dtype": "float64",
                  "stats": {
                    "unique_count": 250,
                    "nan_count": 0,
                    "min": "0.429511696100235",
                    "max": "1.320988655090332",
                    "histogram": [
                      {
                        "bin_start": 0.429511696100235,
                        "bin_end": 0.5186593919992447,
                        "count": 25
                      },
                      {
                        "bin_start": 0.5186593919992447,
                        "bin_end": 0.6078070878982544,
                        "count": 46
                      },
                      {
                        "bin_start": 0.6078070878982544,
                        "bin_end": 0.696954783797264,
                        "count": 67
                      },
                      {
                        "bin_start": 0.696954783797264,
                        "bin_end": 0.7861024796962738,
                        "count": 52
                      },
                      {
                        "bin_start": 0.7861024796962738,
                        "bin_end": 0.8752501755952835,
                        "count": 32
                      },
                      {
                        "bin_start": 0.8752501755952835,
                        "bin_end": 0.9643978714942931,
                        "count": 22
                      },
                      {
                        "bin_start": 0.9643978714942931,
                        "bin_end": 1.0535455673933027,
                        "count": 5
                      },
                      {
                        "bin_start": 1.0535455673933027,
                        "bin_end": 1.1426932632923126,
                        "count": 4
                      },
                      {
                        "bin_start": 1.1426932632923126,
                        "bin_end": 1.2318409591913224,
                        "count": 2
                      },
                      {
                        "bin_start": 1.2318409591913224,
                        "bin_end": 1.320988655090332,
                        "count": 1
                      }
                    ]
                  }
                },
                {
                  "name": "mfcc_5_mean",
                  "dtype": "float64",
                  "stats": {
                    "unique_count": 253,
                    "nan_count": 0,
                    "min": "-0.0385131612420082",
                    "max": "2.642634391784668",
                    "histogram": [
                      {
                        "bin_start": -0.0385131612420082,
                        "bin_end": 0.2296015940606594,
                        "count": 1
                      },
                      {
                        "bin_start": 0.2296015940606594,
                        "bin_end": 0.497716349363327,
                        "count": 9
                      },
                      {
                        "bin_start": 0.497716349363327,
                        "bin_end": 0.7658311046659946,
                        "count": 20
                      },
                      {
                        "bin_start": 0.7658311046659946,
                        "bin_end": 1.0339458599686622,
                        "count": 42
                      },
                      {
                        "bin_start": 1.0339458599686622,
                        "bin_end": 1.3020606152713299,
                        "count": 41
                      },
                      {
                        "bin_start": 1.3020606152713299,
                        "bin_end": 1.5701753705739974,
                        "count": 52
                      },
                      {
                        "bin_start": 1.5701753705739974,
                        "bin_end": 1.8382901258766648,
                        "count": 49
                      },
                      {
                        "bin_start": 1.8382901258766648,
                        "bin_end": 2.1064048811793326,
                        "count": 22
                      },
                      {
                        "bin_start": 2.1064048811793326,
                        "bin_end": 2.3745196364820003,
                        "count": 13
                      },
                      {
                        "bin_start": 2.3745196364820003,
                        "bin_end": 2.642634391784668,
                        "count": 7
                      }
                    ]
                  }
                },
                {
                  "name": "mfcc_5_std",
                  "dtype": "float64",
                  "stats": {
                    "unique_count": 254,
                    "nan_count": 0,
                    "min": "0.3851404488086701",
                    "max": "1.3024358749389648",
                    "histogram": [
                      {
                        "bin_start": 0.3851404488086701,
                        "bin_end": 0.4768699914216996,
                        "count": 17
                      },
                      {
                        "bin_start": 0.4768699914216996,
                        "bin_end": 0.5685995340347291,
                        "count": 63
                      },
                      {
                        "bin_start": 0.5685995340347291,
                        "bin_end": 0.6603290766477585,
                        "count": 83
                      },
                      {
                        "bin_start": 0.6603290766477585,
                        "bin_end": 0.7520586192607881,
                        "count": 53
                      },
                      {
                        "bin_start": 0.7520586192607881,
                        "bin_end": 0.8437881618738174,
                        "count": 34
                      },
                      {
                        "bin_start": 0.8437881618738174,
                        "bin_end": 0.935517704486847,
                        "count": 2
                      },
                      {
                        "bin_start": 0.935517704486847,
                        "bin_end": 1.0272472470998766,
                        "count": 2
                      },
                      {
                        "bin_start": 1.0272472470998766,
                        "bin_end": 1.118976789712906,
                        "count": 0
                      },
                      {
                        "bin_start": 1.118976789712906,
                        "bin_end": 1.2107063323259355,
                        "count": 1
                      },
                      {
                        "bin_start": 1.2107063323259355,
                        "bin_end": 1.3024358749389648,
                        "count": 1
                      }
                    ]
                  }
                },
                {
                  "name": "mfcc_6_mean",
                  "dtype": "float64",
                  "stats": {
                    "unique_count": 255,
                    "nan_count": 0,
                    "min": "-1.7255202531814575",
                    "max": "1.164441466331482",
                    "histogram": [
                      {
                        "bin_start": -1.7255202531814575,
                        "bin_end": -1.4365240812301636,
                        "count": 1
                      },
                      {
                        "bin_start": -1.4365240812301636,
                        "bin_end": -1.1475279092788697,
                        "count": 0
                      },
                      {
                        "bin_start": -1.1475279092788697,
                        "bin_end": -0.8585317373275756,
                        "count": 4
                      },
                      {
                        "bin_start": -0.8585317373275756,
                        "bin_end": -0.5695355653762817,
                        "count": 5
                      },
                      {
                        "bin_start": -0.5695355653762817,
                        "bin_end": -0.2805393934249878,
                        "count": 36
                      },
                      {
                        "bin_start": -0.2805393934249878,
                        "bin_end": 0.00845677852630633,
                        "count": 77
                      },
                      {
                        "bin_start": 0.00845677852630633,
                        "bin_end": 0.2974529504776,
                        "count": 70
                      },
                      {
                        "bin_start": 0.2974529504776,
                        "bin_end": 0.5864491224288941,
                        "count": 49
                      },
                      {
                        "bin_start": 0.5864491224288941,
                        "bin_end": 0.8754452943801883,
                        "count": 11
                      },
                      {
                        "bin_start": 0.8754452943801883,
                        "bin_end": 1.164441466331482,
                        "count": 3
                      }
                    ]
                  }
                },
                {
                  "name": "mfcc_6_std",
                  "dtype": "float64",
                  "stats": {
                    "unique_count": 255,
                    "nan_count": 0,
                    "min": "0.3911948502063751",
                    "max": "1.3980402946472168",
                    "histogram": [
                      {
                        "bin_start": 0.3911948502063751,
                        "bin_end": 0.49187939465045927,
                        "count": 25
                      },
                      {
                        "bin_start": 0.49187939465045927,
                        "bin_end": 0.5925639390945434,
                        "count": 95
                      },
                      {
                        "bin_start": 0.5925639390945434,
                        "bin_end": 0.6932484835386277,
                        "count": 80
                      },
                      {
                        "bin_start": 0.6932484835386277,
                        "bin_end": 0.7939330279827118,
                        "count": 42
                      },
                      {
                        "bin_start": 0.7939330279827118,
                        "bin_end": 0.894617572426796,
                        "count": 7
                      },
                      {
                        "bin_start": 0.894617572426796,
                        "bin_end": 0.9953021168708802,
                        "count": 2
                      },
                      {
                        "bin_start": 0.9953021168708802,
                        "bin_end": 1.0959866613149645,
                        "count": 3
                      },
                      {
                        "bin_start": 1.0959866613149645,
                        "bin_end": 1.1966712057590485,
                        "count": 1
                      },
                      {
                        "bin_start": 1.1966712057590485,
                        "bin_end": 1.2973557502031325,
                        "count": 0
                      },
                      {
                        "bin_start": 1.2973557502031325,
                        "bin_end": 1.3980402946472168,
                        "count": 1
                      }
                    ]
                  }
                },
                {
                  "name": "mfcc_7_mean",
                  "dtype": "float64",
                  "stats": {
                    "unique_count": 253,
                    "nan_count": 0,
                    "min": "-0.8108737468719482",
                    "max": "1.31211256980896",
                    "histogram": [
                      {
                        "bin_start": -0.8108737468719482,
                        "bin_end": -0.5985751152038574,
                        "count": 1
                      },
                      {
                        "bin_start": -0.5985751152038574,
                        "bin_end": -0.3862764835357666,
                        "count": 3
                      },
                      {
                        "bin_start": -0.3862764835357666,
                        "bin_end": -0.17397785186767578,
                        "count": 4
                      },
                      {
                        "bin_start": -0.17397785186767578,
                        "bin_end": 0.03832077980041504,
                        "count": 20
                      },
                      {
                        "bin_start": 0.03832077980041504,
                        "bin_end": 0.25061941146850586,
                        "count": 55
                      },
                      {
                        "bin_start": 0.25061941146850586,
                        "bin_end": 0.4629180431365967,
                        "count": 84
                      },
                      {
                        "bin_start": 0.4629180431365967,
                        "bin_end": 0.6752166748046875,
                        "count": 46
                      },
                      {
                        "bin_start": 0.6752166748046875,
                        "bin_end": 0.8875153064727783,
                        "count": 21
                      },
                      {
                        "bin_start": 0.8875153064727783,
                        "bin_end": 1.0998139381408691,
                        "count": 15
                      },
                      {
                        "bin_start": 1.0998139381408691,
                        "bin_end": 1.31211256980896,
                        "count": 7
                      }
                    ]
                  }
                },
                {
                  "name": "mfcc_7_std",
                  "dtype": "float64",
                  "stats": {
                    "unique_count": 255,
                    "nan_count": 0,
                    "min": "0.4027604162693024",
                    "max": "1.6636676788330078",
                    "histogram": [
                      {
                        "bin_start": 0.4027604162693024,
                        "bin_end": 0.528851142525673,
                        "count": 56
                      },
                      {
                        "bin_start": 0.528851142525673,
                        "bin_end": 0.6549418687820435,
                        "count": 116
                      },
                      {
                        "bin_start": 0.6549418687820435,
                        "bin_end": 0.781032595038414,
                        "count": 53
                      },
                      {
                        "bin_start": 0.781032595038414,
                        "bin_end": 0.9071233212947847,
                        "count": 19
                      },
                      {
                        "bin_start": 0.9071233212947847,
                        "bin_end": 1.033214047551155,
                        "count": 9
                      },
                      {
                        "bin_start": 1.033214047551155,
                        "bin_end": 1.1593047738075257,
                        "count": 2
                      },
                      {
                        "bin_start": 1.1593047738075257,
                        "bin_end": 1.2853955000638964,
                        "count": 0
                      },
                      {
                        "bin_start": 1.2853955000638964,
                        "bin_end": 1.4114862263202668,
                        "count": 0
                      },
                      {
                        "bin_start": 1.4114862263202668,
                        "bin_end": 1.5375769525766374,
                        "count": 0
                      },
                      {
                        "bin_start": 1.5375769525766374,
                        "bin_end": 1.6636676788330078,
                        "count": 1
                      }
                    ]
                  }
                },
                {
                  "name": "mfcc_8_mean",
                  "dtype": "float64",
                  "stats": {
                    "unique_count": 255,
                    "nan_count": 0,
                    "min": "-1.1235812902450562",
                    "max": "0.8672350645065308",
                    "histogram": [
                      {
                        "bin_start": -1.1235812902450562,
                        "bin_end": -0.9244996547698975,
                        "count": 3
                      },
                      {
                        "bin_start": -0.9244996547698975,
                        "bin_end": -0.7254180192947388,
                        "count": 6
                      },
                      {
                        "bin_start": -0.7254180192947388,
                        "bin_end": -0.52633638381958,
                        "count": 8
                      },
                      {
                        "bin_start": -0.52633638381958,
                        "bin_end": -0.32725474834442136,
                        "count": 21
                      },
                      {
                        "bin_start": -0.32725474834442136,
                        "bin_end": -0.1281731128692627,
                        "count": 41
                      },
                      {
                        "bin_start": -0.1281731128692627,
                        "bin_end": 0.07090852260589608,
                        "count": 73
                      },
                      {
                        "bin_start": 0.07090852260589608,
                        "bin_end": 0.26999015808105464,
                        "count": 58
                      },
                      {
                        "bin_start": 0.26999015808105464,
                        "bin_end": 0.4690717935562134,
                        "count": 29
                      },
                      {
                        "bin_start": 0.4690717935562134,
                        "bin_end": 0.6681534290313722,
                        "count": 11
                      },
                      {
                        "bin_start": 0.6681534290313722,
                        "bin_end": 0.8672350645065308,
                        "count": 6
                      }
                    ]
                  }
                },
                {
                  "name": "mfcc_8_std",
                  "dtype": "float64",
                  "stats": {
                    "unique_count": 254,
                    "nan_count": 0,
                    "min": "0.3859860599040985",
                    "max": "1.3175764083862305",
                    "histogram": [
                      {
                        "bin_start": 0.3859860599040985,
                        "bin_end": 0.4791450947523117,
                        "count": 20
                      },
                      {
                        "bin_start": 0.4791450947523117,
                        "bin_end": 0.5723041296005249,
                        "count": 81
                      },
                      {
                        "bin_start": 0.5723041296005249,
                        "bin_end": 0.6654631644487381,
                        "count": 75
                      },
                      {
                        "bin_start": 0.6654631644487381,
                        "bin_end": 0.7586221992969513,
                        "count": 37
                      },
                      {
                        "bin_start": 0.7586221992969513,
                        "bin_end": 0.8517812341451645,
                        "count": 17
                      },
                      {
                        "bin_start": 0.8517812341451645,
                        "bin_end": 0.9449402689933777,
                        "count": 10
                      },
                      {
                        "bin_start": 0.9449402689933777,
                        "bin_end": 1.0380993038415909,
                        "count": 10
                      },
                      {
                        "bin_start": 1.0380993038415909,
                        "bin_end": 1.131258338689804,
                        "count": 3
                      },
                      {
                        "bin_start": 1.131258338689804,
                        "bin_end": 1.2244173735380173,
                        "count": 2
                      },
                      {
                        "bin_start": 1.2244173735380173,
                        "bin_end": 1.3175764083862305,
                        "count": 1
                      }
                    ]
                  }
                },
                {
                  "name": "mfcc_9_mean",
                  "dtype": "float64",
                  "stats": {
                    "unique_count": 252,
                    "nan_count": 0,
                    "min": "-0.8504460453987122",
                    "max": "1.985127568244934",
                    "histogram": [
                      {
                        "bin_start": -0.8504460453987122,
                        "bin_end": -0.5668886840343476,
                        "count": 4
                      },
                      {
                        "bin_start": -0.5668886840343476,
                        "bin_end": -0.28333132266998295,
                        "count": 19
                      },
                      {
                        "bin_start": -0.28333132266998295,
                        "bin_end": 0.00022603869438164725,
                        "count": 78
                      },
                      {
                        "bin_start": 0.00022603869438164725,
                        "bin_end": 0.28378340005874625,
                        "count": 112
                      },
                      {
                        "bin_start": 0.28378340005874625,
                        "bin_end": 0.567340761423111,
                        "count": 38
                      },
                      {
                        "bin_start": 0.567340761423111,
                        "bin_end": 0.8508981227874755,
                        "count": 4
                      },
                      {
                        "bin_start": 0.8508981227874755,
                        "bin_end": 1.13445548415184,
                        "count": 0
                      },
                      {
                        "bin_start": 1.13445548415184,
                        "bin_end": 1.4180128455162047,
                        "count": 0
                      },
                      {
                        "bin_start": 1.4180128455162047,
                        "bin_end": 1.7015702068805694,
                        "count": 0
                      },
                      {
                        "bin_start": 1.7015702068805694,
                        "bin_end": 1.985127568244934,
                        "count": 1
                      }
                    ]
                  }
                },
                {
                  "name": "mfcc_9_std",
                  "dtype": "float64",
                  "stats": {
                    "unique_count": 253,
                    "nan_count": 0,
                    "min": "0.4050360321998596",
                    "max": "1.7718145847320557",
                    "histogram": [
                      {
                        "bin_start": 0.4050360321998596,
                        "bin_end": 0.5417138874530792,
                        "count": 88
                      },
                      {
                        "bin_start": 0.5417138874530792,
                        "bin_end": 0.6783917427062989,
                        "count": 103
                      },
                      {
                        "bin_start": 0.6783917427062989,
                        "bin_end": 0.8150695979595184,
                        "count": 30
                      },
                      {
                        "bin_start": 0.8150695979595184,
                        "bin_end": 0.951747453212738,
                        "count": 19
                      },
                      {
                        "bin_start": 0.951747453212738,
                        "bin_end": 1.0884253084659576,
                        "count": 14
                      },
                      {
                        "bin_start": 1.0884253084659576,
                        "bin_end": 1.2251031637191772,
                        "count": 0
                      },
                      {
                        "bin_start": 1.2251031637191772,
                        "bin_end": 1.3617810189723967,
                        "count": 0
                      },
                      {
                        "bin_start": 1.3617810189723967,
                        "bin_end": 1.4984588742256164,
                        "count": 1
                      },
                      {
                        "bin_start": 1.4984588742256164,
                        "bin_end": 1.635136729478836,
                        "count": 0
                      },
                      {
                        "bin_start": 1.635136729478836,
                        "bin_end": 1.7718145847320557,
                        "count": 1
                      }
                    ]
                  }
                },
                {
                  "name": "onset_rate",
                  "dtype": "float64",
                  "stats": {
                    "unique_count": 186,
                    "nan_count": 0,
                    "min": "0.3665037760995113",
                    "max": "14.466579189241482",
                    "histogram": [
                      {
                        "bin_start": 0.3665037760995113,
                        "bin_end": 1.7765113174137084,
                        "count": 33
                      },
                      {
                        "bin_start": 1.7765113174137084,
                        "bin_end": 3.186518858727905,
                        "count": 39
                      },
                      {
                        "bin_start": 3.186518858727905,
                        "bin_end": 4.5965264000421024,
                        "count": 53
                      },
                      {
                        "bin_start": 4.5965264000421024,
                        "bin_end": 6.0065339413563,
                        "count": 48
                      },
                      {
                        "bin_start": 6.0065339413563,
                        "bin_end": 7.416541482670497,
                        "count": 38
                      },
                      {
                        "bin_start": 7.416541482670497,
                        "bin_end": 8.826549023984693,
                        "count": 26
                      },
                      {
                        "bin_start": 8.826549023984693,
                        "bin_end": 10.23655656529889,
                        "count": 16
                      },
                      {
                        "bin_start": 10.23655656529889,
                        "bin_end": 11.646564106613088,
                        "count": 1
                      },
                      {
                        "bin_start": 11.646564106613088,
                        "bin_end": 13.056571647927285,
                        "count": 1
                      },
                      {
                        "bin_start": 13.056571647927285,
                        "bin_end": 14.466579189241482,
                        "count": 1
                      }
                    ]
                  }
                },
                {
                  "name": "spectral_centroid_mean",
                  "dtype": "float64",
                  "stats": {
                    "unique_count": 254,
                    "nan_count": 0,
                    "min": "2.2889530044177064",
                    "max": "86.37112013782105",
                    "histogram": [
                      {
                        "bin_start": 2.2889530044177064,
                        "bin_end": 10.69716971775804,
                        "count": 29
                      },
                      {
                        "bin_start": 10.69716971775804,
                        "bin_end": 19.105386431098374,
                        "count": 53
                      },
                      {
                        "bin_start": 19.105386431098374,
                        "bin_end": 27.513603144438708,
                        "count": 63
                      },
                      {
                        "bin_start": 27.513603144438708,
                        "bin_end": 35.92181985777904,
                        "count": 36
                      },
                      {
                        "bin_start": 35.92181985777904,
                        "bin_end": 44.33003657111938,
                        "count": 38
                      },
                      {
                        "bin_start": 44.33003657111938,
                        "bin_end": 52.73825328445971,
                        "count": 22
                      },
                      {
                        "bin_start": 52.73825328445971,
                        "bin_end": 61.14646999780004,
                        "count": 9
                      },
                      {
                        "bin_start": 61.14646999780004,
                        "bin_end": 69.55468671114038,
                        "count": 3
                      },
                      {
                        "bin_start": 69.55468671114038,
                        "bin_end": 77.96290342448071,
                        "count": 2
                      },
                      {
                        "bin_start": 77.96290342448071,
                        "bin_end": 86.37112013782105,
                        "count": 1
                      }
                    ]
                  }
                },
                {
                  "name": "spectral_decrease_mean",
                  "dtype": "float64",
                  "stats": {
                    "unique_count": 253,
                    "nan_count": 0,
                    "min": "-0.6508204243271017",
                    "max": "0.0746354640356398",
                    "histogram": [
                      {
                        "bin_start": -0.6508204243271017,
                        "bin_end": -0.5782748354908276,
                        "count": 7
                      },
                      {
                        "bin_start": -0.5782748354908276,
                        "bin_end": -0.5057292466545534,
                        "count": 11
                      },
                      {
                        "bin_start": -0.5057292466545534,
                        "bin_end": -0.4331836578182793,
                        "count": 6
                      },
                      {
                        "bin_start": -0.4331836578182793,
                        "bin_end": -0.3606380689820051,
                        "count": 17
                      },
                      {
                        "bin_start": -0.3606380689820051,
                        "bin_end": -0.28809248014573097,
                        "count": 22
                      },
                      {
                        "bin_start": -0.28809248014573097,
                        "bin_end": -0.2155468913094568,
                        "count": 18
                      },
                      {
                        "bin_start": -0.2155468913094568,
                        "bin_end": -0.14300130247318266,
                        "count": 28
                      },
                      {
                        "bin_start": -0.14300130247318266,
                        "bin_end": -0.0704557136369085,
                        "count": 31
                      },
                      {
                        "bin_start": -0.0704557136369085,
                        "bin_end": 0.002089875199365654,
                        "count": 56
                      },
                      {
                        "bin_start": 0.002089875199365654,
                        "bin_end": 0.0746354640356398,
                        "count": 60
                      }
                    ]
                  }
                },
                {
                  "name": "spectral_flux_mean",
                  "dtype": "float64",
                  "stats": {
                    "unique_count": 253,
                    "nan_count": 0,
                    "min": "0.3513506948947906",
                    "max": "6.309929370880128",
                    "histogram": [
                      {
                        "bin_start": 0.3513506948947906,
                        "bin_end": 0.9472085624933244,
                        "count": 59
                      },
                      {
                        "bin_start": 0.9472085624933244,
                        "bin_end": 1.5430664300918582,
                        "count": 77
                      },
                      {
                        "bin_start": 1.5430664300918582,
                        "bin_end": 2.1389242976903917,
                        "count": 61
                      },
                      {
                        "bin_start": 2.1389242976903917,
                        "bin_end": 2.7347821652889257,
                        "count": 25
                      },
                      {
                        "bin_start": 2.7347821652889257,
                        "bin_end": 3.3306400328874597,
                        "count": 15
                      },
                      {
                        "bin_start": 3.3306400328874597,
                        "bin_end": 3.9264979004859932,
                        "count": 10
                      },
                      {
                        "bin_start": 3.9264979004859932,
                        "bin_end": 4.522355768084527,
                        "count": 3
                      },
                      {
                        "bin_start": 4.522355768084527,
                        "bin_end": 5.118213635683061,
                        "count": 1
                      },
                      {
                        "bin_start": 5.118213635683061,
                        "bin_end": 5.714071503281595,
                        "count": 3
                      },
                      {
                        "bin_start": 5.714071503281595,
                        "bin_end": 6.309929370880128,
                        "count": 2
                      }
                    ]
                  }
                },
                {
                  "name": "spectral_rolloff_mean",
                  "dtype": "float64",
                  "stats": {
                    "unique_count": 96,
                    "nan_count": 0,
                    "min": "21.49122807017544",
                    "max": "5243.859649122805",
                    "histogram": [
                      {
                        "bin_start": 21.49122807017544,
                        "bin_end": 543.7280701754385,
                        "count": 37
                      },
                      {
                        "bin_start": 543.7280701754385,
                        "bin_end": 1065.9649122807014,
                        "count": 92
                      },
                      {
                        "bin_start": 1065.9649122807014,
                        "bin_end": 1588.2017543859645,
                        "count": 69
                      },
                      {
                        "bin_start": 1588.2017543859645,
                        "bin_end": 2110.4385964912276,
                        "count": 38
                      },
                      {
                        "bin_start": 2110.4385964912276,
                        "bin_end": 2632.6754385964905,
                        "count": 13
                      },
                      {
                        "bin_start": 2632.6754385964905,
                        "bin_end": 3154.912280701754,
                        "count": 4
                      },
                      {
                        "bin_start": 3154.912280701754,
                        "bin_end": 3677.1491228070167,
                        "count": 2
                      },
                      {
                        "bin_start": 3677.1491228070167,
                        "bin_end": 4199.38596491228,
                        "count": 0
                      },
                      {
                        "bin_start": 4199.38596491228,
                        "bin_end": 4721.622807017543,
                        "count": 0
                      },
                      {
                        "bin_start": 4721.622807017543,
                        "bin_end": 5243.859649122805,
                        "count": 1
                      }
                    ]
                  }
                },
                {
                  "name": "spectral_spread_mean",
                  "dtype": "float64",
                  "stats": {
                    "unique_count": 253,
                    "nan_count": 0,
                    "min": "70.00673121702424",
                    "max": "15422.032530830022",
                    "histogram": [
                      {
                        "bin_start": 70.00673121702424,
                        "bin_end": 1605.209311178324,
                        "count": 145
                      },
                      {
                        "bin_start": 1605.209311178324,
                        "bin_end": 3140.4118911396235,
                        "count": 65
                      },
                      {
                        "bin_start": 3140.4118911396235,
                        "bin_end": 4675.614471100923,
                        "count": 29
                      },
                      {
                        "bin_start": 4675.614471100923,
                        "bin_end": 6210.817051062223,
                        "count": 11
                      },
                      {
                        "bin_start": 6210.817051062223,
                        "bin_end": 7746.019631023523,
                        "count": 4
                      },
                      {
                        "bin_start": 7746.019631023523,
                        "bin_end": 9281.222210984823,
                        "count": 0
                      },
                      {
                        "bin_start": 9281.222210984823,
                        "bin_end": 10816.424790946123,
                        "count": 1
                      },
                      {
                        "bin_start": 10816.424790946123,
                        "bin_end": 12351.627370907423,
                        "count": 0
                      },
                      {
                        "bin_start": 12351.627370907423,
                        "bin_end": 13886.829950868723,
                        "count": 0
                      },
                      {
                        "bin_start": 13886.829950868723,
                        "bin_end": 15422.032530830022,
                        "count": 1
                      }
                    ]
                  }
                },
                {
                  "name": "zcr_mean",
                  "dtype": "float64",
                  "stats": {
                    "unique_count": 253,
                    "nan_count": 0,
                    "min": "35.19992382125132",
                    "max": "579.8175191539702",
                    "histogram": [
                      {
                        "bin_start": 35.19992382125132,
                        "bin_end": 89.6616833545232,
                        "count": 38
                      },
                      {
                        "bin_start": 89.6616833545232,
                        "bin_end": 144.12344288779508,
                        "count": 66
                      },
                      {
                        "bin_start": 144.12344288779508,
                        "bin_end": 198.58520242106698,
                        "count": 54
                      },
                      {
                        "bin_start": 198.58520242106698,
                        "bin_end": 253.04696195433888,
                        "count": 46
                      },
                      {
                        "bin_start": 253.04696195433888,
                        "bin_end": 307.5087214876108,
                        "count": 21
                      },
                      {
                        "bin_start": 307.5087214876108,
                        "bin_end": 361.97048102088263,
                        "count": 17
                      },
                      {
                        "bin_start": 361.97048102088263,
                        "bin_end": 416.43224055415453,
                        "count": 3
                      },
                      {
                        "bin_start": 416.43224055415453,
                        "bin_end": 470.89400008742643,
                        "count": 4
                      },
                      {
                        "bin_start": 470.89400008742643,
                        "bin_end": 525.3557596206983,
                        "count": 4
                      },
                      {
                        "bin_start": 525.3557596206983,
                        "bin_end": 579.8175191539702,
                        "count": 3
                      }
                    ]
                  }
                },
                {
                  "name": "zcr_std",
                  "dtype": "float64",
                  "stats": {
                    "unique_count": 254,
                    "nan_count": 0,
                    "min": "32.99664108102972",
                    "max": "406.1473412756033",
                    "histogram": [
                      {
                        "bin_start": 32.99664108102972,
                        "bin_end": 70.31171110048709,
                        "count": 47
                      },
                      {
                        "bin_start": 70.31171110048709,
                        "bin_end": 107.62678111994444,
                        "count": 85
                      },
                      {
                        "bin_start": 107.62678111994444,
                        "bin_end": 144.94185113940182,
                        "count": 66
                      },
                      {
                        "bin_start": 144.94185113940182,
                        "bin_end": 182.25692115885914,
                        "count": 32
                      },
                      {
                        "bin_start": 182.25692115885914,
                        "bin_end": 219.57199117831652,
                        "count": 18
                      },
                      {
                        "bin_start": 219.57199117831652,
                        "bin_end": 256.8870611977739,
                        "count": 5
                      },
                      {
                        "bin_start": 256.8870611977739,
                        "bin_end": 294.2021312172312,
                        "count": 0
                      },
                      {
                        "bin_start": 294.2021312172312,
                        "bin_end": 331.5172012366886,
                        "count": 1
                      },
                      {
                        "bin_start": 331.5172012366886,
                        "bin_end": 368.832271256146,
                        "count": 1
                      },
                      {
                        "bin_start": 368.832271256146,
                        "bin_end": 406.1473412756033,
                        "count": 1
                      }
                    ]
                  }
                },
                {
                  "name": "_deepnote_index_column",
                  "dtype": "int64"
                }
              ],
              "rows_top": [
                {
                  "chroma_0_mean": 70.79112243652344,
                  "chroma_0_std": 163.69908142089844,
                  "chroma_10_mean": 369.8666687011719,
                  "chroma_10_std": 1465.0367431640625,
                  "chroma_11_mean": 178.24884033203125,
                  "chroma_11_std": 671.5762939453125,
                  "chroma_1_mean": 50.82683181762695,
                  "chroma_1_std": 93.7698974609375,
                  "chroma_2_mean": 85.22802734375,
                  "chroma_2_std": 157.26211547851562,
                  "chroma_3_mean": 67.01036834716797,
                  "chroma_3_std": 106.6735610961914,
                  "chroma_4_mean": 58.15690231323242,
                  "chroma_4_std": 154.90994262695312,
                  "chroma_5_mean": 111.14584350585938,
                  "chroma_5_std": 305.1469116210937,
                  "chroma_6_mean": 61.23237609863281,
                  "chroma_6_std": 160.37860107421875,
                  "chroma_7_mean": 74.7151870727539,
                  "chroma_7_std": 150.32305908203125,
                  "chroma_8_mean": 133.17996215820312,
                  "chroma_8_std": 352.5252380371094,
                  "chroma_9_mean": 173.6541748046875,
                  "chroma_9_std": 557.1319580078125,
                  "chroma_centroid_mean": 5.473164871795047,
                  "chroma_flux_mean": 531.7245483398439,
                  "chroma_max": 18615.931640625,
                  "chroma_min": 4.974637508392334,
                  "chroma_spread_mean": 9.026713721382194,
                  "mfcc_10_mean": 0.1134776547551155,
                  "mfcc_10_std": 1.1337192058563232,
                  "mfcc_11_mean": -0.1470114588737487,
                  "mfcc_11_std": 1.1075232028961182,
                  "mfcc_12_mean": -0.2286247313022613,
                  "mfcc_12_std": 1.2336876392364502,
                  "mfcc_13_mean": -0.333812028169632,
                  "mfcc_13_std": 0.8021290898323059,
                  "mfcc_2_mean": 0.2163925766944885,
                  "mfcc_2_std": 0.9442753195762634,
                  "mfcc_3_mean": 0.3347803950309753,
                  "mfcc_3_std": 0.7812361717224121,
                  "mfcc_4_mean": -0.6707422137260437,
                  "mfcc_4_std": 0.7013778686523438,
                  "mfcc_5_mean": 1.658395767211914,
                  "mfcc_5_std": 0.826878547668457,
                  "mfcc_6_mean": -0.6328692436218262,
                  "mfcc_6_std": 0.7962244749069214,
                  "mfcc_7_mean": -0.4771802723407746,
                  "mfcc_7_std": 1.0338857173919678,
                  "mfcc_8_mean": -0.4419646859169006,
                  "mfcc_8_std": 1.3175764083862305,
                  "mfcc_9_mean": -0.0916694626212119,
                  "mfcc_9_std": 1.3618048429489136,
                  "onset_rate": 0.8996001776988006,
                  "spectral_centroid_mean": 6.063651420113272,
                  "spectral_decrease_mean": -0.6033252429367771,
                  "spectral_flux_mean": 0.66063392162323,
                  "spectral_rolloff_mean": 451.31578947368416,
                  "spectral_spread_mean": 526.8137052524373,
                  "zcr_mean": 83.94861621117319,
                  "zcr_std": 64.16593143064284,
                  "_deepnote_index_column": 209
                },
                {
                  "chroma_0_mean": 468.0569458007813,
                  "chroma_0_std": 632.560791015625,
                  "chroma_10_mean": 430.321044921875,
                  "chroma_10_std": 831.6044921875,
                  "chroma_11_mean": 328.18756103515625,
                  "chroma_11_std": 435.6429748535156,
                  "chroma_1_mean": 505.9749755859375,
                  "chroma_1_std": 689.6179809570312,
                  "chroma_2_mean": 545.1878662109375,
                  "chroma_2_std": 673.700439453125,
                  "chroma_3_mean": 671.5662231445312,
                  "chroma_3_std": 705.4434963697456,
                  "chroma_4_mean": 670.0137939453125,
                  "chroma_4_std": 940.0628051757812,
                  "chroma_5_mean": 767.1016235351562,
                  "chroma_5_std": 1185.4864501953125,
                  "chroma_6_mean": 554.6927490234375,
                  "chroma_6_std": 915.0523071289062,
                  "chroma_7_mean": 506.2078552246094,
                  "chroma_7_std": 750.1886596679688,
                  "chroma_8_mean": 633.5416870117188,
                  "chroma_8_std": 1069.847412109375,
                  "chroma_9_mean": 546.507080078125,
                  "chroma_9_std": 1102.717529296875,
                  "chroma_centroid_mean": 5.108693288893728,
                  "chroma_flux_mean": 1610.1517333984375,
                  "chroma_max": 18520.775390625,
                  "chroma_min": 11.798819541931152,
                  "chroma_spread_mean": 8.708369869321652,
                  "mfcc_10_mean": -0.0294875130057334,
                  "mfcc_10_std": 0.5048183798789978,
                  "mfcc_11_mean": 0.2183806300163269,
                  "mfcc_11_std": 0.4810297191143036,
                  "mfcc_12_mean": -0.3450345098972321,
                  "mfcc_12_std": 0.6089017644288048,
                  "mfcc_13_mean": 0.2001167237758636,
                  "mfcc_13_std": 0.4448789656162262,
                  "mfcc_2_mean": 0.0677693113684654,
                  "mfcc_2_std": 1.2376768589019775,
                  "mfcc_3_mean": 0.0591083355247974,
                  "mfcc_3_std": 1.1023757457733154,
                  "mfcc_4_mean": -0.4545705020427704,
                  "mfcc_4_std": 0.7607414722442627,
                  "mfcc_5_mean": 2.141153573989868,
                  "mfcc_5_std": 0.7012723088264465,
                  "mfcc_6_mean": -0.225097730755806,
                  "mfcc_6_std": 0.6069756746292114,
                  "mfcc_7_mean": 0.07560845464468,
                  "mfcc_7_std": 0.6587803363800049,
                  "mfcc_8_mean": 0.079072393476963,
                  "mfcc_8_std": 0.4861108660697937,
                  "mfcc_9_mean": -0.2701073884963989,
                  "mfcc_9_std": 0.6760560870170593,
                  "onset_rate": 5.1643713904931134,
                  "spectral_centroid_mean": 13.047741431462171,
                  "spectral_decrease_mean": -0.3135932925822877,
                  "spectral_flux_mean": 1.946844696998596,
                  "spectral_rolloff_mean": 687.719298245614,
                  "spectral_spread_mean": 471.0831169973053,
                  "zcr_mean": 130.13920514811272,
                  "zcr_std": 96.13425462451436,
                  "_deepnote_index_column": 140
                },
                {
                  "chroma_0_mean": 191.7191925048828,
                  "chroma_0_std": 628.7073974609375,
                  "chroma_10_mean": 150.15843200683594,
                  "chroma_10_std": 327.6300354003906,
                  "chroma_11_mean": 186.8348388671875,
                  "chroma_11_std": 765.841552734375,
                  "chroma_1_mean": 239.3153076171875,
                  "chroma_1_std": 480.4645690917969,
                  "chroma_2_mean": 544.7816162109375,
                  "chroma_2_std": 1369.62353515625,
                  "chroma_3_mean": 504.5509338378906,
                  "chroma_3_std": 1185.6275634765625,
                  "chroma_4_mean": 237.70103454589844,
                  "chroma_4_std": 620.0877075195312,
                  "chroma_5_mean": 91.7817611694336,
                  "chroma_5_std": 182.4134063720703,
                  "chroma_6_mean": 108.29674530029295,
                  "chroma_6_std": 236.73785400390625,
                  "chroma_7_mean": 128.04742431640622,
                  "chroma_7_std": 296.9232788085937,
                  "chroma_8_mean": 85.0103988647461,
                  "chroma_8_std": 188.857421875,
                  "chroma_9_mean": 97.84107971191406,
                  "chroma_9_std": 273.23318481445307,
                  "chroma_centroid_mean": 4.559219403575665,
                  "chroma_flux_mean": 989.1074829101562,
                  "chroma_max": 15874.8515625,
                  "chroma_min": 1.0011731386184692,
                  "chroma_spread_mean": 8.780242355633218,
                  "mfcc_10_mean": -0.2374647408723831,
                  "mfcc_10_std": 0.816574215888977,
                  "mfcc_11_mean": -0.2041175663471222,
                  "mfcc_11_std": 0.8601629734039307,
                  "mfcc_12_mean": 0.2076505720615387,
                  "mfcc_12_std": 0.8174861073493958,
                  "mfcc_13_mean": 0.5363155007362366,
                  "mfcc_13_std": 0.6224014759063721,
                  "mfcc_2_mean": 0.148685485124588,
                  "mfcc_2_std": 1.607152223587036,
                  "mfcc_3_mean": -0.1570745408535003,
                  "mfcc_3_std": 0.8624616265296936,
                  "mfcc_4_mean": 0.8939955830574036,
                  "mfcc_4_std": 0.9300203919410706,
                  "mfcc_5_mean": 0.5291128754615784,
                  "mfcc_5_std": 0.7278305292129517,
                  "mfcc_6_mean": 0.3670308887958527,
                  "mfcc_6_std": 0.9381489157676696,
                  "mfcc_7_mean": 0.2348523288965225,
                  "mfcc_7_std": 0.9619021415710448,
                  "mfcc_8_mean": -0.1799336820840835,
                  "mfcc_8_std": 0.9256184697151184,
                  "mfcc_9_mean": -0.0062081674113869,
                  "mfcc_9_std": 0.8157681822776794,
                  "onset_rate": 2.1657041314971126,
                  "spectral_centroid_mean": 13.351412242625813,
                  "spectral_decrease_mean": -0.2999989163410324,
                  "spectral_flux_mean": 0.7731456160545349,
                  "spectral_rolloff_mean": 644.7368421052631,
                  "spectral_spread_mean": 175.42285981777854,
                  "zcr_mean": 58.59599374076304,
                  "zcr_std": 51.92463817904716,
                  "_deepnote_index_column": 217
                },
                {
                  "chroma_0_mean": 361.5283203125,
                  "chroma_0_std": 490.8703308105469,
                  "chroma_10_mean": 294.94482421875,
                  "chroma_10_std": 301.51727294921875,
                  "chroma_11_mean": 224.6511993408203,
                  "chroma_11_std": 175.5470733642578,
                  "chroma_1_mean": 263.2841796875,
                  "chroma_1_std": 199.80845642089844,
                  "chroma_2_mean": 253.4355926513672,
                  "chroma_2_std": 210.4369964599609,
                  "chroma_3_mean": 237.7323608398437,
                  "chroma_3_std": 196.3915252685547,
                  "chroma_4_mean": 306.1658020019531,
                  "chroma_4_std": 259.16036987304693,
                  "chroma_5_mean": 316.895263671875,
                  "chroma_5_std": 328.7153625488281,
                  "chroma_6_mean": 313.7429504394531,
                  "chroma_6_std": 388.6990051269531,
                  "chroma_7_mean": 396.8183898925781,
                  "chroma_7_std": 486.5614318847656,
                  "chroma_8_mean": 398.1636657714844,
                  "chroma_8_std": 474.1642150878906,
                  "chroma_9_mean": 482.9151306152344,
                  "chroma_9_std": 685.6846923828125,
                  "chroma_centroid_mean": 5.506004795130474,
                  "chroma_flux_mean": 858.1626586914062,
                  "chroma_max": 5965.986328125,
                  "chroma_min": 3.878200054168701,
                  "chroma_spread_mean": 10.184087993395238,
                  "mfcc_10_mean": 0.1537161767482757,
                  "mfcc_10_std": 0.6025364398956299,
                  "mfcc_11_mean": 0.039852287620306,
                  "mfcc_11_std": 0.5710583925247192,
                  "mfcc_12_mean": -0.1155447661876678,
                  "mfcc_12_std": 0.693495512008667,
                  "mfcc_13_mean": 0.0361716337502002,
                  "mfcc_13_std": 0.7506386637687683,
                  "mfcc_2_mean": 0.0955454260110855,
                  "mfcc_2_std": 0.586154580116272,
                  "mfcc_3_mean": 0.338123619556427,
                  "mfcc_3_std": 0.6650807857513428,
                  "mfcc_4_mean": 0.1984685063362121,
                  "mfcc_4_std": 0.4932488799095154,
                  "mfcc_5_mean": 1.3615566492080688,
                  "mfcc_5_std": 0.4327433705329895,
                  "mfcc_6_mean": -0.4183080196380615,
                  "mfcc_6_std": 0.4400516450405121,
                  "mfcc_7_mean": 0.6475580930709839,
                  "mfcc_7_std": 0.4426218569278717,
                  "mfcc_8_mean": 0.3211081624031067,
                  "mfcc_8_std": 0.50137859582901,
                  "mfcc_9_mean": 0.1632879823446273,
                  "mfcc_9_std": 0.6296869516372681,
                  "onset_rate": 6.563749444691249,
                  "spectral_centroid_mean": 52.49072089361113,
                  "spectral_decrease_mean": 0.0184536630268274,
                  "spectral_flux_mean": 1.1641966104507446,
                  "spectral_rolloff_mean": 2664.9122807017543,
                  "spectral_spread_mean": 5297.1422575350125,
                  "zcr_mean": 274.16437096057444,
                  "zcr_std": 113.19560226799284,
                  "_deepnote_index_column": 194
                },
                {
                  "chroma_0_mean": 623.636474609375,
                  "chroma_0_std": 1185.1412353515625,
                  "chroma_10_mean": 356.4776306152344,
                  "chroma_10_std": 438.7652282714844,
                  "chroma_11_mean": 436.7736511230469,
                  "chroma_11_std": 584.1932373046875,
                  "chroma_1_mean": 519.1400756835939,
                  "chroma_1_std": 607.8746948242188,
                  "chroma_2_mean": 886.1854248046875,
                  "chroma_2_std": 1343.947998046875,
                  "chroma_3_mean": 421.11322021484375,
                  "chroma_3_std": 501.0455017089844,
                  "chroma_4_mean": 348.0970458984375,
                  "chroma_4_std": 589.2988891601562,
                  "chroma_5_mean": 300.38543701171875,
                  "chroma_5_std": 350.5233154296875,
                  "chroma_6_mean": 550.916015625,
                  "chroma_6_std": 878.3432006835938,
                  "chroma_7_mean": 912.7809448242188,
                  "chroma_7_std": 2016.6875,
                  "chroma_8_mean": 491.63177490234375,
                  "chroma_8_std": 799.6519165039062,
                  "chroma_9_mean": 565.4124755859375,
                  "chroma_9_std": 855.5286254882812,
                  "chroma_centroid_mean": 5.23381155973494,
                  "chroma_flux_mean": 1430.1844482421875,
                  "chroma_max": 36651.76171875,
                  "chroma_min": 0.4764426946640015,
                  "chroma_spread_mean": 10.372887201307018,
                  "mfcc_10_mean": -0.1216684505343437,
                  "mfcc_10_std": 0.6351262927055359,
                  "mfcc_11_mean": -0.1287630349397659,
                  "mfcc_11_std": 0.6808363199234009,
                  "mfcc_12_mean": -0.0635576844215393,
                  "mfcc_12_std": 0.610217273235321,
                  "mfcc_13_mean": -0.1782872378826141,
                  "mfcc_13_std": 0.6138114929199219,
                  "mfcc_2_mean": -0.1731510162353515,
                  "mfcc_2_std": 0.7657200694084167,
                  "mfcc_3_mean": 0.0695719495415687,
                  "mfcc_3_std": 0.6134483814239502,
                  "mfcc_4_mean": -1.2374347448349,
                  "mfcc_4_std": 0.5608770251274109,
                  "mfcc_5_mean": 1.2485860586166382,
                  "mfcc_5_std": 0.5923442840576172,
                  "mfcc_6_mean": -0.0513637922704219,
                  "mfcc_6_std": 0.6069389581680298,
                  "mfcc_7_mean": 0.3759481310844421,
                  "mfcc_7_std": 0.578540563583374,
                  "mfcc_8_mean": -0.40635946393013,
                  "mfcc_8_std": 0.7368541359901428,
                  "mfcc_9_mean": -0.1796998530626297,
                  "mfcc_9_std": 0.8175435066223145,
                  "onset_rate": 4.731230564193692,
                  "spectral_centroid_mean": 33.69519149422665,
                  "spectral_decrease_mean": 0.0064738034355197,
                  "spectral_flux_mean": 1.64427387714386,
                  "spectral_rolloff_mean": 1310.9649122807014,
                  "spectral_spread_mean": 753.7596629504974,
                  "zcr_mean": 179.85265147874256,
                  "zcr_std": 88.76223443485878,
                  "_deepnote_index_column": 5
                },
                {
                  "chroma_0_mean": 130.64723205566406,
                  "chroma_0_std": 278.4950561523437,
                  "chroma_10_mean": 225.3748321533203,
                  "chroma_10_std": 348.62908935546875,
                  "chroma_11_mean": 152.34408569335938,
                  "chroma_11_std": 345.3354187011719,
                  "chroma_1_mean": 146.11236572265625,
                  "chroma_1_std": 323.0184936523437,
                  "chroma_2_mean": 168.6132049560547,
                  "chroma_2_std": 436.7182922363281,
                  "chroma_3_mean": 161.6785888671875,
                  "chroma_3_std": 348.8701171875,
                  "chroma_4_mean": 151.63394165039062,
                  "chroma_4_std": 329.4569702148437,
                  "chroma_5_mean": 136.09933471679688,
                  "chroma_5_std": 335.59747314453125,
                  "chroma_6_mean": 145.728759765625,
                  "chroma_6_std": 339.6607360839844,
                  "chroma_7_mean": 179.38038635253906,
                  "chroma_7_std": 386.8054809570313,
                  "chroma_8_mean": 236.4881134033203,
                  "chroma_8_std": 422.9063415527344,
                  "chroma_9_mean": 326.8691101074219,
                  "chroma_9_std": 540.5947875976561,
                  "chroma_centroid_mean": 6.360044842547375,
                  "chroma_flux_mean": 492.2784729003906,
                  "chroma_max": 6642.134765625,
                  "chroma_min": 0.0798502564430236,
                  "chroma_spread_mean": 7.881800637561331,
                  "mfcc_10_mean": -0.1727519780397415,
                  "mfcc_10_std": 0.8165164589881897,
                  "mfcc_11_mean": -0.2195025831460952,
                  "mfcc_11_std": 1.0374133586883545,
                  "mfcc_12_mean": -0.5524635910987854,
                  "mfcc_12_std": 1.1004270315170288,
                  "mfcc_13_mean": -0.5787639617919922,
                  "mfcc_13_std": 1.019494891166687,
                  "mfcc_2_mean": -0.6455142498016357,
                  "mfcc_2_std": 1.6920319795608518,
                  "mfcc_3_mean": -0.3484666645526886,
                  "mfcc_3_std": 0.8610935211181641,
                  "mfcc_4_mean": 1.8334662914276123,
                  "mfcc_4_std": 0.6912891268730164,
                  "mfcc_5_mean": 1.6886434555053709,
                  "mfcc_5_std": 0.5789638161659241,
                  "mfcc_6_mean": 0.8185453414916992,
                  "mfcc_6_std": 0.6297431588172913,
                  "mfcc_7_mean": 0.5085350871086121,
                  "mfcc_7_std": 0.5879549980163574,
                  "mfcc_8_mean": 0.341011255979538,
                  "mfcc_8_std": 0.6028549075126648,
                  "mfcc_9_mean": -0.073921725153923,
                  "mfcc_9_std": 0.7024386525154114,
                  "onset_rate": 1.1994669035984007,
                  "spectral_centroid_mean": 17.52716190031591,
                  "spectral_decrease_mean": 0.0182872452302504,
                  "spectral_flux_mean": 0.6487569212913513,
                  "spectral_rolloff_mean": 451.31578947368416,
                  "spectral_spread_mean": 170.07856052793605,
                  "zcr_mean": 50.68682301884904,
                  "zcr_std": 32.99664108102972,
                  "_deepnote_index_column": 33
                },
                {
                  "chroma_0_mean": 233.8443298339844,
                  "chroma_0_std": 243.5662078857422,
                  "chroma_10_mean": 293.4476928710937,
                  "chroma_10_std": 319.5857849121094,
                  "chroma_11_mean": 331.632080078125,
                  "chroma_11_std": 442.1504211425781,
                  "chroma_1_mean": 227.93038940429688,
                  "chroma_1_std": 328.62811279296875,
                  "chroma_2_mean": 301.2089538574219,
                  "chroma_2_std": 347.15625,
                  "chroma_3_mean": 327.8815002441406,
                  "chroma_3_std": 327.0632629394531,
                  "chroma_4_mean": 471.8452758789063,
                  "chroma_4_std": 504.9078063964844,
                  "chroma_5_mean": 259.86871337890625,
                  "chroma_5_std": 698.9953281973291,
                  "chroma_6_mean": 329.34716796875,
                  "chroma_6_std": 451.96490478515625,
                  "chroma_7_mean": 421.5970458984375,
                  "chroma_7_std": 521.5466918945311,
                  "chroma_8_mean": 416.8288269042969,
                  "chroma_8_std": 431.049072265625,
                  "chroma_9_mean": 653.4854125976562,
                  "chroma_9_std": 826.0215454101562,
                  "chroma_centroid_mean": 5.97841710067744,
                  "chroma_flux_mean": 886.8054809570312,
                  "chroma_max": 7316.56103515625,
                  "chroma_min": 8.635030746459961,
                  "chroma_spread_mean": 9.767232693843043,
                  "mfcc_10_mean": 0.3533165752887726,
                  "mfcc_10_std": 0.5888910889625549,
                  "mfcc_11_mean": 0.073244534432888,
                  "mfcc_11_std": 0.6160096526145935,
                  "mfcc_12_mean": -0.2994964718818665,
                  "mfcc_12_std": 0.6725085377693176,
                  "mfcc_13_mean": -0.4043153822422028,
                  "mfcc_13_std": 0.7512425184249878,
                  "mfcc_2_mean": -0.1335103511810302,
                  "mfcc_2_std": 1.25239896774292,
                  "mfcc_3_mean": -0.1832549721002578,
                  "mfcc_3_std": 1.0618640184402466,
                  "mfcc_4_mean": -0.1313191950321197,
                  "mfcc_4_std": 0.812286376953125,
                  "mfcc_5_mean": 1.0871782302856443,
                  "mfcc_5_std": 0.6712442636489868,
                  "mfcc_6_mean": -0.9300013184547424,
                  "mfcc_6_std": 0.6476779580116272,
                  "mfcc_7_mean": 0.407159686088562,
                  "mfcc_7_std": 0.7098214626312256,
                  "mfcc_8_mean": -0.0570885054767131,
                  "mfcc_8_std": 0.5789408087730408,
                  "mfcc_9_mean": 0.4565236270427704,
                  "mfcc_9_std": 0.546575129032135,
                  "onset_rate": 4.731230564193692,
                  "spectral_centroid_mean": 34.03183557007405,
                  "spectral_decrease_mean": -0.0491223708833463,
                  "spectral_flux_mean": 1.609912633895874,
                  "spectral_rolloff_mean": 1310.9649122807014,
                  "spectral_spread_mean": 2280.591217529138,
                  "zcr_mean": 215.91036197781224,
                  "zcr_std": 89.61688842893753,
                  "_deepnote_index_column": 280
                },
                {
                  "chroma_0_mean": 89.53739929199219,
                  "chroma_0_std": 200.5055694580078,
                  "chroma_10_mean": 112.45295715332033,
                  "chroma_10_std": 236.67437744140625,
                  "chroma_11_mean": 71.56808471679688,
                  "chroma_11_std": 130.79629516601562,
                  "chroma_1_mean": 84.70372009277344,
                  "chroma_1_std": 159.3970947265625,
                  "chroma_2_mean": 86.34951782226562,
                  "chroma_2_std": 141.3555908203125,
                  "chroma_3_mean": 98.4871063232422,
                  "chroma_3_std": 179.4124755859375,
                  "chroma_4_mean": 132.48577880859378,
                  "chroma_4_std": 281.4375,
                  "chroma_5_mean": 207.9596405029297,
                  "chroma_5_std": 524.192138671875,
                  "chroma_6_mean": 272.2513427734375,
                  "chroma_6_std": 807.5629272460938,
                  "chroma_7_mean": 175.02163696289062,
                  "chroma_7_std": 353.298095703125,
                  "chroma_8_mean": 142.02792358398438,
                  "chroma_8_std": 254.1167297363281,
                  "chroma_9_mean": 162.89608764648438,
                  "chroma_9_std": 562.99609375,
                  "chroma_centroid_mean": 5.875029161280251,
                  "chroma_flux_mean": 556.2376098632811,
                  "chroma_max": 12682.849609375,
                  "chroma_min": 0.2287172079086304,
                  "chroma_spread_mean": 7.566104035108946,
                  "mfcc_10_mean": 0.2735417485237121,
                  "mfcc_10_std": 0.6674182415008545,
                  "mfcc_11_mean": -0.0121661992743611,
                  "mfcc_11_std": 0.6924517750740051,
                  "mfcc_12_mean": -0.3235223591327667,
                  "mfcc_12_std": 0.6345427632331848,
                  "mfcc_13_mean": -0.60785311460495,
                  "mfcc_13_std": 0.7257582545280457,
                  "mfcc_2_mean": -0.7249443531036377,
                  "mfcc_2_std": 1.0744117498397827,
                  "mfcc_3_mean": -0.8018391728401184,
                  "mfcc_3_std": 0.7089604735374451,
                  "mfcc_4_mean": -0.9831096529960632,
                  "mfcc_4_std": 0.6559820771217346,
                  "mfcc_5_mean": 1.1702415943145752,
                  "mfcc_5_std": 0.5121373534202576,
                  "mfcc_6_mean": -0.4024474024772644,
                  "mfcc_6_std": 0.7067396640777588,
                  "mfcc_7_mean": -0.08591278642416,
                  "mfcc_7_std": 0.5636635422706604,
                  "mfcc_8_mean": -0.2765393853187561,
                  "mfcc_8_std": 0.6358241438865662,
                  "mfcc_9_mean": 0.3389058411121368,
                  "mfcc_9_std": 0.6353071331977844,
                  "onset_rate": 0.5330964015992893,
                  "spectral_centroid_mean": 21.97497894449933,
                  "spectral_decrease_mean": -0.1949011961189788,
                  "spectral_flux_mean": 0.4725229442119598,
                  "spectral_rolloff_mean": 902.6315789473684,
                  "spectral_spread_mean": 675.3741957609117,
                  "zcr_mean": 74.18636943800689,
                  "zcr_std": 56.61837341206808,
                  "_deepnote_index_column": 34
                }
              ],
              "rows_bottom": [
                {
                  "chroma_0_mean": 1591.1072998046875,
                  "chroma_0_std": 2357.87060546875,
                  "chroma_10_mean": 1177.135498046875,
                  "chroma_10_std": 1421.90380859375,
                  "chroma_11_mean": 793.0253295898438,
                  "chroma_11_std": 665.4788818359375,
                  "chroma_1_mean": 976.5969848632812,
                  "chroma_1_std": 1028.560302734375,
                  "chroma_2_mean": 1132.665283203125,
                  "chroma_2_std": 1305.5198974609375,
                  "chroma_3_mean": 1873.2099609375,
                  "chroma_3_std": 3704.890380859375,
                  "chroma_4_mean": 971.4549560546876,
                  "chroma_4_std": 1217.810302734375,
                  "chroma_5_mean": 1187.6807861328125,
                  "chroma_5_std": 1722.197509765625,
                  "chroma_6_mean": 923.9375,
                  "chroma_6_std": 931.823974609375,
                  "chroma_7_mean": 1505.447265625,
                  "chroma_7_std": 2317.42333984375,
                  "chroma_8_mean": 878.449951171875,
                  "chroma_8_std": 900.5586547851562,
                  "chroma_9_mean": 1002.8385620117188,
                  "chroma_9_std": 1012.7955932617188,
                  "chroma_centroid_mean": 5.274282398902881,
                  "chroma_flux_mean": 1974.8603515625,
                  "chroma_max": 22299.794921875,
                  "chroma_min": 5.969101905822754,
                  "chroma_spread_mean": 9.540251229469993,
                  "mfcc_10_mean": -0.4612643122673034,
                  "mfcc_10_std": 0.8562496900558472,
                  "mfcc_11_mean": -0.0199992023408412,
                  "mfcc_11_std": 1.168804168701172,
                  "mfcc_12_mean": -0.1793099790811538,
                  "mfcc_12_std": 0.9671973586082458,
                  "mfcc_13_mean": 0.1196871995925903,
                  "mfcc_13_std": 0.96257746219635,
                  "mfcc_2_mean": -0.3423393070697784,
                  "mfcc_2_std": 0.778838574886322,
                  "mfcc_3_mean": -0.0438385605812072,
                  "mfcc_3_std": 0.6036186218261719,
                  "mfcc_4_mean": -0.4269080460071564,
                  "mfcc_4_std": 0.5741771459579468,
                  "mfcc_5_mean": 1.5150339603424072,
                  "mfcc_5_std": 0.575758159160614,
                  "mfcc_6_mean": 0.2280514538288116,
                  "mfcc_6_std": 0.6517475843429565,
                  "mfcc_7_mean": 0.3212224245071411,
                  "mfcc_7_std": 0.7806338667869568,
                  "mfcc_8_mean": -0.0584145300090313,
                  "mfcc_8_std": 1.059457302093506,
                  "mfcc_9_mean": -0.1158963069319725,
                  "mfcc_9_std": 0.9251445531845092,
                  "onset_rate": 7.036390603463774,
                  "spectral_centroid_mean": 36.00819149957254,
                  "spectral_decrease_mean": -0.0066614304953009,
                  "spectral_flux_mean": 2.625105857849121,
                  "spectral_rolloff_mean": 1547.3684210526314,
                  "spectral_spread_mean": 1216.959948776017,
                  "zcr_mean": 326.12728274719143,
                  "zcr_std": 163.88490596253118,
                  "_deepnote_index_column": 211
                },
                {
                  "chroma_0_mean": 681.930419921875,
                  "chroma_0_std": 1243.771484375,
                  "chroma_10_mean": 637.5556030273438,
                  "chroma_10_std": 874.2876586914062,
                  "chroma_11_mean": 621.3840942382812,
                  "chroma_11_std": 916.1787719726562,
                  "chroma_1_mean": 472.4861755371094,
                  "chroma_1_std": 832.6500854492188,
                  "chroma_2_mean": 394.9364318847656,
                  "chroma_2_std": 772.421142578125,
                  "chroma_3_mean": 345.7631530761719,
                  "chroma_3_std": 464.177490234375,
                  "chroma_4_mean": 464.2208862304688,
                  "chroma_4_std": 649.4363403320312,
                  "chroma_5_mean": 467.4158935546875,
                  "chroma_5_std": 612.5323486328125,
                  "chroma_6_mean": 466.31646728515625,
                  "chroma_6_std": 610.4367065429688,
                  "chroma_7_mean": 526.6473999023439,
                  "chroma_7_std": 685.8574829101562,
                  "chroma_8_mean": 723.6845703125,
                  "chroma_8_std": 985.4303588867188,
                  "chroma_9_mean": 893.2196655273438,
                  "chroma_9_std": 1337.139404296875,
                  "chroma_centroid_mean": 5.84100686078263,
                  "chroma_flux_mean": 1685.3411865234375,
                  "chroma_max": 11033.16796875,
                  "chroma_min": 2.1184427738189697,
                  "chroma_spread_mean": 10.379211828678704,
                  "mfcc_10_mean": -0.0984578803181648,
                  "mfcc_10_std": 0.5151217579841614,
                  "mfcc_11_mean": 0.1831220090389252,
                  "mfcc_11_std": 0.4905993938446045,
                  "mfcc_12_mean": -0.041907649487257,
                  "mfcc_12_std": 0.4644581973552704,
                  "mfcc_13_mean": 0.0667217671871185,
                  "mfcc_13_std": 0.4812998175621033,
                  "mfcc_2_mean": -0.0188020560890436,
                  "mfcc_2_std": 0.8823038935661316,
                  "mfcc_3_mean": 0.1310403048992157,
                  "mfcc_3_std": 1.202570557594299,
                  "mfcc_4_mean": -0.527707576751709,
                  "mfcc_4_std": 0.9260016679763794,
                  "mfcc_5_mean": 2.413049459457397,
                  "mfcc_5_std": 0.6336718201637268,
                  "mfcc_6_mean": 0.4287485182285309,
                  "mfcc_6_std": 0.6602538228034973,
                  "mfcc_7_mean": 0.5654321312904358,
                  "mfcc_7_std": 0.7493370175361633,
                  "mfcc_8_mean": -0.0834878906607627,
                  "mfcc_8_std": 0.590378999710083,
                  "mfcc_9_mean": 0.2736873626708984,
                  "mfcc_9_std": 0.6012865900993347,
                  "onset_rate": 5.264326965792981,
                  "spectral_centroid_mean": 17.96405106763569,
                  "spectral_decrease_mean": 0.0028283945385314,
                  "spectral_flux_mean": 1.918715596199036,
                  "spectral_rolloff_mean": 580.2631578947368,
                  "spectral_spread_mean": 358.19097550796084,
                  "zcr_mean": 113.10743787873947,
                  "zcr_std": 68.76788980242047,
                  "_deepnote_index_column": 9
                },
                {
                  "chroma_0_mean": 151.85191345214844,
                  "chroma_0_std": 228.56130981445312,
                  "chroma_10_mean": 430.6598510742188,
                  "chroma_10_std": 670.4573343832661,
                  "chroma_11_mean": 206.53086853027344,
                  "chroma_11_std": 285.7546081542969,
                  "chroma_1_mean": 110.22711181640624,
                  "chroma_1_std": 126.8646469116211,
                  "chroma_2_mean": 200.8871917724609,
                  "chroma_2_std": 383.1651611328125,
                  "chroma_3_mean": 265.8749389648437,
                  "chroma_3_std": 685.5081787109375,
                  "chroma_4_mean": 175.67202758789062,
                  "chroma_4_std": 244.27931213378903,
                  "chroma_5_mean": 218.6345672607422,
                  "chroma_5_std": 275.63137817382807,
                  "chroma_6_mean": 134.60977172851562,
                  "chroma_6_std": 173.69522094726562,
                  "chroma_7_mean": 131.89453125,
                  "chroma_7_std": 192.3125305175781,
                  "chroma_8_mean": 139.73234558105472,
                  "chroma_8_std": 252.19239807128903,
                  "chroma_9_mean": 222.09783935546875,
                  "chroma_9_std": 271.94998168945307,
                  "chroma_centroid_mean": 6.2030474847626325,
                  "chroma_flux_mean": 475.2432861328125,
                  "chroma_max": 5421.4052734375,
                  "chroma_min": 15.447709083557127,
                  "chroma_spread_mean": 10.188987710400408,
                  "mfcc_10_mean": 0.0896985977888107,
                  "mfcc_10_std": 0.7731582522392273,
                  "mfcc_11_mean": -0.1920613944530487,
                  "mfcc_11_std": 0.9859733581542968,
                  "mfcc_12_mean": -0.3973272144794464,
                  "mfcc_12_std": 0.7747287750244141,
                  "mfcc_13_mean": -0.4952785670757294,
                  "mfcc_13_std": 0.5824509263038635,
                  "mfcc_2_mean": -0.020191017214729504,
                  "mfcc_2_std": 1.4659005403518677,
                  "mfcc_3_mean": 0.2086172252893448,
                  "mfcc_3_std": 0.7626267671585083,
                  "mfcc_4_mean": -0.1324153393507003,
                  "mfcc_4_std": 0.5445964932441711,
                  "mfcc_5_mean": 1.4734084606170654,
                  "mfcc_5_std": 0.5461061000823975,
                  "mfcc_6_mean": 0.4514191746711731,
                  "mfcc_6_std": 0.5036042928695679,
                  "mfcc_7_mean": 0.2567140460014343,
                  "mfcc_7_std": 0.5006434917449951,
                  "mfcc_8_mean": 0.7425869703292847,
                  "mfcc_8_std": 0.5001437664031982,
                  "mfcc_9_mean": 0.0916284471750259,
                  "mfcc_9_std": 0.6231577396392822,
                  "onset_rate": 3.2318969346956914,
                  "spectral_centroid_mean": 6.161813073349711,
                  "spectral_decrease_mean": -0.5563350914192196,
                  "spectral_flux_mean": 0.7641465663909912,
                  "spectral_rolloff_mean": 107.4561403508772,
                  "spectral_spread_mean": 520.9483668956765,
                  "zcr_mean": 109.49058505559437,
                  "zcr_std": 81.49936823554981,
                  "_deepnote_index_column": 195
                },
                {
                  "chroma_0_mean": 571.0568237304688,
                  "chroma_0_std": 894.4510498046875,
                  "chroma_10_mean": 741.8336181640625,
                  "chroma_10_std": 1241.8614501953125,
                  "chroma_11_mean": 608.7315673828125,
                  "chroma_11_std": 824.4156494140625,
                  "chroma_1_mean": 476.92779541015625,
                  "chroma_1_std": 599.4321899414062,
                  "chroma_2_mean": 579.3063354492188,
                  "chroma_2_std": 964.3533325195312,
                  "chroma_3_mean": 571.02587890625,
                  "chroma_3_std": 1217.4376220703125,
                  "chroma_4_mean": 753.5305786132812,
                  "chroma_4_std": 1703.594482421875,
                  "chroma_5_mean": 879.3147583007812,
                  "chroma_5_std": 1770.8065185546875,
                  "chroma_6_mean": 493.5605163574219,
                  "chroma_6_std": 771.0594482421875,
                  "chroma_7_mean": 453.0535583496094,
                  "chroma_7_std": 681.118896484375,
                  "chroma_8_mean": 493.5331726074219,
                  "chroma_8_std": 777.5952758789062,
                  "chroma_9_mean": 599.1470336914062,
                  "chroma_9_std": 896.59423828125,
                  "chroma_centroid_mean": 5.517060276890281,
                  "chroma_flux_mean": 1794.3282470703125,
                  "chroma_max": 22966.45703125,
                  "chroma_min": 6.938661125123501,
                  "chroma_spread_mean": 9.55745208190566,
                  "mfcc_10_mean": 0.0916277766227722,
                  "mfcc_10_std": 0.6037614941596985,
                  "mfcc_11_mean": -0.1023970693349838,
                  "mfcc_11_std": 0.6717453002929688,
                  "mfcc_12_mean": 0.8736705183982849,
                  "mfcc_12_std": 0.4864355623722077,
                  "mfcc_13_mean": -0.0157291628420352,
                  "mfcc_13_std": 0.5372363924980164,
                  "mfcc_2_mean": 0.0763545930385589,
                  "mfcc_2_std": 1.0823348760604858,
                  "mfcc_3_mean": 0.2416733056306839,
                  "mfcc_3_std": 1.1413240432739258,
                  "mfcc_4_mean": 0.5831168293952942,
                  "mfcc_4_std": 0.8997678756713867,
                  "mfcc_5_mean": 2.0041191577911377,
                  "mfcc_5_std": 0.6625943779945374,
                  "mfcc_6_mean": -0.1142516136169433,
                  "mfcc_6_std": 0.77378249168396,
                  "mfcc_7_mean": 1.1782679557800293,
                  "mfcc_7_std": 0.6848700046539307,
                  "mfcc_8_mean": 0.0353817380964756,
                  "mfcc_8_std": 0.6206045150756836,
                  "mfcc_9_mean": -0.1839388310909271,
                  "mfcc_9_std": 0.6552748680114746,
                  "onset_rate": 7.263438471790316,
                  "spectral_centroid_mean": 20.244460067686468,
                  "spectral_decrease_mean": -0.0806806329923813,
                  "spectral_flux_mean": 2.165593147277832,
                  "spectral_rolloff_mean": 687.719298245614,
                  "spectral_spread_mean": 1080.1460252899524,
                  "zcr_mean": 157.83081168507488,
                  "zcr_std": 88.97185032969892,
                  "_deepnote_index_column": 251
                },
                {
                  "chroma_0_mean": 393.5169067382813,
                  "chroma_0_std": 803.0911254882812,
                  "chroma_10_mean": 390.5687255859375,
                  "chroma_10_std": 587.8128662109375,
                  "chroma_11_mean": 273.77243041992193,
                  "chroma_11_std": 315.94415283203125,
                  "chroma_1_mean": 455.2785339355469,
                  "chroma_1_std": 672.099853515625,
                  "chroma_2_mean": 622.9447631835938,
                  "chroma_2_std": 1222.3623046875,
                  "chroma_3_mean": 605.713134765625,
                  "chroma_3_std": 1330.0965576171875,
                  "chroma_4_mean": 817.8775024414062,
                  "chroma_4_std": 1520.8642578125,
                  "chroma_5_mean": 475.6583557128906,
                  "chroma_5_std": 898.481689453125,
                  "chroma_6_mean": 238.0919189453125,
                  "chroma_6_std": 397.1272277832031,
                  "chroma_7_mean": 243.2939910888672,
                  "chroma_7_std": 437.2267150878906,
                  "chroma_8_mean": 342.9241027832031,
                  "chroma_8_std": 491.8074035644531,
                  "chroma_9_mean": 579.1529541015625,
                  "chroma_9_std": 997.7567749023438,
                  "chroma_centroid_mean": 5.073885021673682,
                  "chroma_flux_mean": 724.2775268554688,
                  "chroma_max": 13370.259765625,
                  "chroma_min": 2.221832752227783,
                  "chroma_spread_mean": 7.817418414524691,
                  "mfcc_10_mean": -0.1254547387361526,
                  "mfcc_10_std": 0.7656020522117615,
                  "mfcc_11_mean": -0.1341521888971328,
                  "mfcc_11_std": 0.9768161177635192,
                  "mfcc_12_mean": 0.2659467160701752,
                  "mfcc_12_std": 0.9305372834205629,
                  "mfcc_13_mean": 0.2476629167795181,
                  "mfcc_13_std": 0.912113070487976,
                  "mfcc_2_mean": 0.2251945734024048,
                  "mfcc_2_std": 0.8452755808830261,
                  "mfcc_3_mean": 0.1002274081110954,
                  "mfcc_3_std": 0.6579505801200867,
                  "mfcc_4_mean": 0.2746826112270355,
                  "mfcc_4_std": 0.7154091596603394,
                  "mfcc_5_mean": 2.2537388801574707,
                  "mfcc_5_std": 0.6425508260726929,
                  "mfcc_6_mean": -0.2706182897090912,
                  "mfcc_6_std": 0.5236194133758545,
                  "mfcc_7_mean": 1.222274899482727,
                  "mfcc_7_std": 0.6179221272468567,
                  "mfcc_8_mean": -0.3488792777061462,
                  "mfcc_8_std": 0.5968566536903381,
                  "mfcc_9_mean": -0.6504242420196533,
                  "mfcc_9_std": 0.6300099492073059,
                  "onset_rate": 2.0657485561972457,
                  "spectral_centroid_mean": 27.96635157184987,
                  "spectral_decrease_mean": -0.1767843859871016,
                  "spectral_flux_mean": 0.9881978034973145,
                  "spectral_rolloff_mean": 1332.4561403508771,
                  "spectral_spread_mean": 1582.072341927542,
                  "zcr_mean": 193.4040342160632,
                  "zcr_std": 144.83112707000456,
                  "_deepnote_index_column": 192
                },
                {
                  "chroma_0_mean": 361.9395751953125,
                  "chroma_0_std": 668.7406616210938,
                  "chroma_10_mean": 355.87847900390625,
                  "chroma_10_std": 542.526611328125,
                  "chroma_11_mean": 352.1321105957031,
                  "chroma_11_std": 677.5618286132812,
                  "chroma_1_mean": 496.1815490722656,
                  "chroma_1_std": 1015.563232421875,
                  "chroma_2_mean": 471.4002380371094,
                  "chroma_2_std": 841.2042236328125,
                  "chroma_3_mean": 534.1137084960939,
                  "chroma_3_std": 926.9254760742188,
                  "chroma_4_mean": 596.6608276367188,
                  "chroma_4_std": 1030.7181396484375,
                  "chroma_5_mean": 565.2599487304688,
                  "chroma_5_std": 892.7498779296875,
                  "chroma_6_mean": 692.7299194335938,
                  "chroma_6_std": 1095.265625,
                  "chroma_7_mean": 582.8661499023438,
                  "chroma_7_std": 1002.899169921875,
                  "chroma_8_mean": 468.3543701171875,
                  "chroma_8_std": 711.7763061523438,
                  "chroma_9_mean": 374.59759521484375,
                  "chroma_9_std": 614.3262329101562,
                  "chroma_centroid_mean": 5.3279395514436,
                  "chroma_flux_mean": 2186.076171875,
                  "chroma_max": 15125.4296875,
                  "chroma_min": 3.3047001361846924,
                  "chroma_spread_mean": 8.737026371821374,
                  "mfcc_10_mean": 0.2913079857826233,
                  "mfcc_10_std": 0.5865591168403625,
                  "mfcc_11_mean": 0.1598736941814422,
                  "mfcc_11_std": 0.5239939689636229,
                  "mfcc_12_mean": 0.3844881951808929,
                  "mfcc_12_std": 0.5601274371147156,
                  "mfcc_13_mean": 0.0237360578030347,
                  "mfcc_13_std": 0.6667921543121338,
                  "mfcc_2_mean": -0.1176597326993942,
                  "mfcc_2_std": 0.8201945424079895,
                  "mfcc_3_mean": -0.2806639671325684,
                  "mfcc_3_std": 0.846881628036499,
                  "mfcc_4_mean": -0.7309759855270386,
                  "mfcc_4_std": 0.6193308234214783,
                  "mfcc_5_mean": 0.4817039370536804,
                  "mfcc_5_std": 0.646038830280304,
                  "mfcc_6_mean": -0.1706889867782592,
                  "mfcc_6_std": 0.5840030908584595,
                  "mfcc_7_mean": 0.8910809755325317,
                  "mfcc_7_std": 0.5033451914787292,
                  "mfcc_8_mean": 0.0330513790249824,
                  "mfcc_8_std": 0.4980266988277435,
                  "mfcc_9_mean": 0.3219449818134308,
                  "mfcc_9_std": 0.5485137104988098,
                  "onset_rate": 8.629498000888496,
                  "spectral_centroid_mean": 52.016057359975136,
                  "spectral_decrease_mean": -0.0073137331100931,
                  "spectral_flux_mean": 3.35451889038086,
                  "spectral_rolloff_mean": 1547.3684210526314,
                  "spectral_spread_mean": 5165.159696269572,
                  "zcr_mean": 293.6447803971546,
                  "zcr_std": 154.5878096535215,
                  "_deepnote_index_column": 117
                },
                {
                  "chroma_0_mean": 1430.9140625,
                  "chroma_0_std": 954.3447875976562,
                  "chroma_10_mean": 1371.248046875,
                  "chroma_10_std": 779.4475708007812,
                  "chroma_11_mean": 1285.5361328125,
                  "chroma_11_std": 663.5189208984375,
                  "chroma_1_mean": 1438.2490234375,
                  "chroma_1_std": 940.036376953125,
                  "chroma_2_mean": 1135.6580810546875,
                  "chroma_2_std": 634.4149169921875,
                  "chroma_3_mean": 1386.756103515625,
                  "chroma_3_std": 713.8269653320312,
                  "chroma_4_mean": 1363.3670654296875,
                  "chroma_4_std": 711.355224609375,
                  "chroma_5_mean": 1281.2548828125,
                  "chroma_5_std": 927.4667358398438,
                  "chroma_6_mean": 1173.959716796875,
                  "chroma_6_std": 742.5308227539062,
                  "chroma_7_mean": 1193.06591796875,
                  "chroma_7_std": 619.0675048828125,
                  "chroma_8_mean": 1546.4498291015625,
                  "chroma_8_std": 818.9743041992188,
                  "chroma_9_mean": 1454.9837646484375,
                  "chroma_9_std": 753.271240234375,
                  "chroma_centroid_mean": 5.516241736330054,
                  "chroma_flux_mean": 1679.8267822265625,
                  "chroma_max": 10911.2822265625,
                  "chroma_min": 158.10586547851562,
                  "chroma_spread_mean": 11.584806389939144,
                  "mfcc_10_mean": -0.0060822707600891,
                  "mfcc_10_std": 0.4950543940067291,
                  "mfcc_11_mean": -0.1313480287790298,
                  "mfcc_11_std": 0.4897013902664185,
                  "mfcc_12_mean": 0.2895695269107818,
                  "mfcc_12_std": 0.5320971012115479,
                  "mfcc_13_mean": 0.0087858261540532,
                  "mfcc_13_std": 0.5011446475982666,
                  "mfcc_2_mean": 0.07626374065876,
                  "mfcc_2_std": 0.7954916954040527,
                  "mfcc_3_mean": 0.1377083212137222,
                  "mfcc_3_std": 0.8126391768455505,
                  "mfcc_4_mean": 0.1917484849691391,
                  "mfcc_4_std": 0.6438890099525452,
                  "mfcc_5_mean": 0.9940658211708068,
                  "mfcc_5_std": 0.6666733026504517,
                  "mfcc_6_mean": 0.4355464875698089,
                  "mfcc_6_std": 0.6311790943145752,
                  "mfcc_7_mean": -0.0186247695237398,
                  "mfcc_7_std": 0.5634595155715942,
                  "mfcc_8_mean": -0.080062597990036,
                  "mfcc_8_std": 0.5075886249542236,
                  "mfcc_9_mean": -0.0279488991945982,
                  "mfcc_9_std": 0.4996388852596283,
                  "onset_rate": 7.604598396611707,
                  "spectral_centroid_mean": 33.29804973821925,
                  "spectral_decrease_mean": 0.0422271867801394,
                  "spectral_flux_mean": 3.631802082061768,
                  "spectral_rolloff_mean": 1267.982456140351,
                  "spectral_spread_mean": 4049.222311733807,
                  "zcr_mean": 532.6077097095784,
                  "zcr_std": 168.90297664514284,
                  "_deepnote_index_column": 47
                },
                {
                  "chroma_0_mean": 295.2467956542969,
                  "chroma_0_std": 608.5994262695312,
                  "chroma_10_mean": 447.0538940429688,
                  "chroma_10_std": 1254.9486083984375,
                  "chroma_11_mean": 327.0246887207031,
                  "chroma_11_std": 632.8726806640625,
                  "chroma_1_mean": 212.92027282714844,
                  "chroma_1_std": 431.642578125,
                  "chroma_2_mean": 227.6847686767578,
                  "chroma_2_std": 451.6785583496094,
                  "chroma_3_mean": 276.34930419921875,
                  "chroma_3_std": 595.168701171875,
                  "chroma_4_mean": 325.88104248046875,
                  "chroma_4_std": 744.8473510742188,
                  "chroma_5_mean": 365.1633911132813,
                  "chroma_5_std": 817.1341552734375,
                  "chroma_6_mean": 338.8253173828125,
                  "chroma_6_std": 676.7496337890625,
                  "chroma_7_mean": 522.8367919921875,
                  "chroma_7_std": 1325.934814453125,
                  "chroma_8_mean": 488.7250671386719,
                  "chroma_8_std": 1068.97998046875,
                  "chroma_9_mean": 413.0941467285156,
                  "chroma_9_std": 887.700927734375,
                  "chroma_centroid_mean": 5.66844177380213,
                  "chroma_flux_mean": 888.4252319335938,
                  "chroma_max": 12968.1845703125,
                  "chroma_min": 6.938661125123501,
                  "chroma_spread_mean": 8.436176889318691,
                  "mfcc_10_mean": 0.028690725342209237,
                  "mfcc_10_std": 0.6058685779571533,
                  "mfcc_11_mean": 0.0906113013625145,
                  "mfcc_11_std": 0.6045107245445251,
                  "mfcc_12_mean": 0.3143633008003235,
                  "mfcc_12_std": 0.5193957686424255,
                  "mfcc_13_mean": -0.1910537481307983,
                  "mfcc_13_std": 0.5109840035438538,
                  "mfcc_2_mean": 0.2535935342311859,
                  "mfcc_2_std": 1.0025813579559326,
                  "mfcc_3_mean": 0.2010421305894852,
                  "mfcc_3_std": 1.313859224319458,
                  "mfcc_4_mean": -1.2119213342666626,
                  "mfcc_4_std": 1.0949296951293943,
                  "mfcc_5_mean": 2.351452589035034,
                  "mfcc_5_std": 0.7435792684555054,
                  "mfcc_6_mean": 0.0185450632125139,
                  "mfcc_6_std": 0.7269948124885559,
                  "mfcc_7_mean": 0.7096515893936157,
                  "mfcc_7_std": 0.6177077889442444,
                  "mfcc_8_mean": 0.2503642141818999,
                  "mfcc_8_std": 0.5141943097114563,
                  "mfcc_9_mean": -0.043361984193325,
                  "mfcc_9_std": 0.5439191460609436,
                  "onset_rate": 2.365615282096846,
                  "spectral_centroid_mean": 13.05472209065835,
                  "spectral_decrease_mean": -0.3143667931533863,
                  "spectral_flux_mean": 1.4513696432113647,
                  "spectral_rolloff_mean": 1010.0877192982456,
                  "spectral_spread_mean": 774.6243495556108,
                  "zcr_mean": 104.8446107931649,
                  "zcr_std": 126.54289734442024,
                  "_deepnote_index_column": 172
                }
              ]
            },
            "text/plain": "     chroma_0_mean  chroma_0_std  chroma_10_mean  chroma_10_std  \\\n209      70.791122    163.699081      369.866669    1465.036743   \n140     468.056946    632.560791      430.321045     831.604492   \n217     191.719193    628.707397      150.158432     327.630035   \n194     361.528320    490.870331      294.944824     301.517273   \n5       623.636475   1185.141235      356.477631     438.765228   \n..             ...           ...             ...            ...   \n251     571.056824    894.451050      741.833618    1241.861450   \n192     393.516907    803.091125      390.568726     587.812866   \n117     361.939575    668.740662      355.878479     542.526611   \n47     1430.914062    954.344788     1371.248047     779.447571   \n172     295.246796    608.599426      447.053894    1254.948608   \n\n     chroma_11_mean  chroma_11_std  chroma_1_mean  chroma_1_std  \\\n209      178.248840     671.576294      50.826832     93.769897   \n140      328.187561     435.642975     505.974976    689.617981   \n217      186.834839     765.841553     239.315308    480.464569   \n194      224.651199     175.547073     263.284180    199.808456   \n5        436.773651     584.193237     519.140076    607.874695   \n..              ...            ...            ...           ...   \n251      608.731567     824.415649     476.927795    599.432190   \n192      273.772430     315.944153     455.278534    672.099854   \n117      352.132111     677.561829     496.181549   1015.563232   \n47      1285.536133     663.518921    1438.249023    940.036377   \n172      327.024689     632.872681     212.920273    431.642578   \n\n     chroma_2_mean  chroma_2_std  ...  mfcc_9_mean  mfcc_9_std  onset_rate  \\\n209      85.228027    157.262115  ...    -0.091669    1.361805    0.899600   \n140     545.187866    673.700439  ...    -0.270107    0.676056    5.164371   \n217     544.781616   1369.623535  ...    -0.006208    0.815768    2.165704   \n194     253.435593    210.436996  ...     0.163288    0.629687    6.563749   \n5       886.185425   1343.947998  ...    -0.179700    0.817544    4.731231   \n..             ...           ...  ...          ...         ...         ...   \n251     579.306335    964.353333  ...    -0.183939    0.655275    7.263438   \n192     622.944763   1222.362305  ...    -0.650424    0.630010    2.065749   \n117     471.400238    841.204224  ...     0.321945    0.548514    8.629498   \n47     1135.658081    634.414917  ...    -0.027949    0.499639    7.604598   \n172     227.684769    451.678558  ...    -0.043362    0.543919    2.365615   \n\n     spectral_centroid_mean  spectral_decrease_mean  spectral_flux_mean  \\\n209                6.063651               -0.603325            0.660634   \n140               13.047741               -0.313593            1.946845   \n217               13.351412               -0.299999            0.773146   \n194               52.490721                0.018454            1.164197   \n5                 33.695191                0.006474            1.644274   \n..                      ...                     ...                 ...   \n251               20.244460               -0.080681            2.165593   \n192               27.966352               -0.176784            0.988198   \n117               52.016057               -0.007314            3.354519   \n47                33.298050                0.042227            3.631802   \n172               13.054722               -0.314367            1.451370   \n\n     spectral_rolloff_mean  spectral_spread_mean    zcr_mean     zcr_std  \n209             451.315789            526.813705   83.948616   64.165931  \n140             687.719298            471.083117  130.139205   96.134255  \n217             644.736842            175.422860   58.595994   51.924638  \n194            2664.912281           5297.142258  274.164371  113.195602  \n5              1310.964912            753.759663  179.852651   88.762234  \n..                     ...                   ...         ...         ...  \n251             687.719298           1080.146025  157.830812   88.971850  \n192            1332.456140           1582.072342  193.404034  144.831127  \n117            1547.368421           5165.159696  293.644780  154.587810  \n47             1267.982456           4049.222312  532.607710  168.902977  \n172            1010.087719            774.624350  104.844611  126.542897  \n\n[256 rows x 61 columns]",
            "text/html": "<div>\n<style scoped>\n    .dataframe tbody tr th:only-of-type {\n        vertical-align: middle;\n    }\n\n    .dataframe tbody tr th {\n        vertical-align: top;\n    }\n\n    .dataframe thead th {\n        text-align: right;\n    }\n</style>\n<table border=\"1\" class=\"dataframe\">\n  <thead>\n    <tr style=\"text-align: right;\">\n      <th></th>\n      <th>chroma_0_mean</th>\n      <th>chroma_0_std</th>\n      <th>chroma_10_mean</th>\n      <th>chroma_10_std</th>\n      <th>chroma_11_mean</th>\n      <th>chroma_11_std</th>\n      <th>chroma_1_mean</th>\n      <th>chroma_1_std</th>\n      <th>chroma_2_mean</th>\n      <th>chroma_2_std</th>\n      <th>...</th>\n      <th>mfcc_9_mean</th>\n      <th>mfcc_9_std</th>\n      <th>onset_rate</th>\n      <th>spectral_centroid_mean</th>\n      <th>spectral_decrease_mean</th>\n      <th>spectral_flux_mean</th>\n      <th>spectral_rolloff_mean</th>\n      <th>spectral_spread_mean</th>\n      <th>zcr_mean</th>\n      <th>zcr_std</th>\n    </tr>\n  </thead>\n  <tbody>\n    <tr>\n      <th>209</th>\n      <td>70.791122</td>\n      <td>163.699081</td>\n      <td>369.866669</td>\n      <td>1465.036743</td>\n      <td>178.248840</td>\n      <td>671.576294</td>\n      <td>50.826832</td>\n      <td>93.769897</td>\n      <td>85.228027</td>\n      <td>157.262115</td>\n      <td>...</td>\n      <td>-0.091669</td>\n      <td>1.361805</td>\n      <td>0.899600</td>\n      <td>6.063651</td>\n      <td>-0.603325</td>\n      <td>0.660634</td>\n      <td>451.315789</td>\n      <td>526.813705</td>\n      <td>83.948616</td>\n      <td>64.165931</td>\n    </tr>\n    <tr>\n      <th>140</th>\n      <td>468.056946</td>\n      <td>632.560791</td>\n      <td>430.321045</td>\n      <td>831.604492</td>\n      <td>328.187561</td>\n      <td>435.642975</td>\n      <td>505.974976</td>\n      <td>689.617981</td>\n      <td>545.187866</td>\n      <td>673.700439</td>\n      <td>...</td>\n      <td>-0.270107</td>\n      <td>0.676056</td>\n      <td>5.164371</td>\n      <td>13.047741</td>\n      <td>-0.313593</td>\n      <td>1.946845</td>\n      <td>687.719298</td>\n      <td>471.083117</td>\n      <td>130.139205</td>\n      <td>96.134255</td>\n    </tr>\n    <tr>\n      <th>217</th>\n      <td>191.719193</td>\n      <td>628.707397</td>\n      <td>150.158432</td>\n      <td>327.630035</td>\n      <td>186.834839</td>\n      <td>765.841553</td>\n      <td>239.315308</td>\n      <td>480.464569</td>\n      <td>544.781616</td>\n      <td>1369.623535</td>\n      <td>...</td>\n      <td>-0.006208</td>\n      <td>0.815768</td>\n      <td>2.165704</td>\n      <td>13.351412</td>\n      <td>-0.299999</td>\n      <td>0.773146</td>\n      <td>644.736842</td>\n      <td>175.422860</td>\n      <td>58.595994</td>\n      <td>51.924638</td>\n    </tr>\n    <tr>\n      <th>194</th>\n      <td>361.528320</td>\n      <td>490.870331</td>\n      <td>294.944824</td>\n      <td>301.517273</td>\n      <td>224.651199</td>\n      <td>175.547073</td>\n      <td>263.284180</td>\n      <td>199.808456</td>\n      <td>253.435593</td>\n      <td>210.436996</td>\n      <td>...</td>\n      <td>0.163288</td>\n      <td>0.629687</td>\n      <td>6.563749</td>\n      <td>52.490721</td>\n      <td>0.018454</td>\n      <td>1.164197</td>\n      <td>2664.912281</td>\n      <td>5297.142258</td>\n      <td>274.164371</td>\n      <td>113.195602</td>\n    </tr>\n    <tr>\n      <th>5</th>\n      <td>623.636475</td>\n      <td>1185.141235</td>\n      <td>356.477631</td>\n      <td>438.765228</td>\n      <td>436.773651</td>\n      <td>584.193237</td>\n      <td>519.140076</td>\n      <td>607.874695</td>\n      <td>886.185425</td>\n      <td>1343.947998</td>\n      <td>...</td>\n      <td>-0.179700</td>\n      <td>0.817544</td>\n      <td>4.731231</td>\n      <td>33.695191</td>\n      <td>0.006474</td>\n      <td>1.644274</td>\n      <td>1310.964912</td>\n      <td>753.759663</td>\n      <td>179.852651</td>\n      <td>88.762234</td>\n    </tr>\n    <tr>\n      <th>...</th>\n      <td>...</td>\n      <td>...</td>\n      <td>...</td>\n      <td>...</td>\n      <td>...</td>\n      <td>...</td>\n      <td>...</td>\n      <td>...</td>\n      <td>...</td>\n      <td>...</td>\n      <td>...</td>\n      <td>...</td>\n      <td>...</td>\n      <td>...</td>\n      <td>...</td>\n      <td>...</td>\n      <td>...</td>\n      <td>...</td>\n      <td>...</td>\n      <td>...</td>\n      <td>...</td>\n    </tr>\n    <tr>\n      <th>251</th>\n      <td>571.056824</td>\n      <td>894.451050</td>\n      <td>741.833618</td>\n      <td>1241.861450</td>\n      <td>608.731567</td>\n      <td>824.415649</td>\n      <td>476.927795</td>\n      <td>599.432190</td>\n      <td>579.306335</td>\n      <td>964.353333</td>\n      <td>...</td>\n      <td>-0.183939</td>\n      <td>0.655275</td>\n      <td>7.263438</td>\n      <td>20.244460</td>\n      <td>-0.080681</td>\n      <td>2.165593</td>\n      <td>687.719298</td>\n      <td>1080.146025</td>\n      <td>157.830812</td>\n      <td>88.971850</td>\n    </tr>\n    <tr>\n      <th>192</th>\n      <td>393.516907</td>\n      <td>803.091125</td>\n      <td>390.568726</td>\n      <td>587.812866</td>\n      <td>273.772430</td>\n      <td>315.944153</td>\n      <td>455.278534</td>\n      <td>672.099854</td>\n      <td>622.944763</td>\n      <td>1222.362305</td>\n      <td>...</td>\n      <td>-0.650424</td>\n      <td>0.630010</td>\n      <td>2.065749</td>\n      <td>27.966352</td>\n      <td>-0.176784</td>\n      <td>0.988198</td>\n      <td>1332.456140</td>\n      <td>1582.072342</td>\n      <td>193.404034</td>\n      <td>144.831127</td>\n    </tr>\n    <tr>\n      <th>117</th>\n      <td>361.939575</td>\n      <td>668.740662</td>\n      <td>355.878479</td>\n      <td>542.526611</td>\n      <td>352.132111</td>\n      <td>677.561829</td>\n      <td>496.181549</td>\n      <td>1015.563232</td>\n      <td>471.400238</td>\n      <td>841.204224</td>\n      <td>...</td>\n      <td>0.321945</td>\n      <td>0.548514</td>\n      <td>8.629498</td>\n      <td>52.016057</td>\n      <td>-0.007314</td>\n      <td>3.354519</td>\n      <td>1547.368421</td>\n      <td>5165.159696</td>\n      <td>293.644780</td>\n      <td>154.587810</td>\n    </tr>\n    <tr>\n      <th>47</th>\n      <td>1430.914062</td>\n      <td>954.344788</td>\n      <td>1371.248047</td>\n      <td>779.447571</td>\n      <td>1285.536133</td>\n      <td>663.518921</td>\n      <td>1438.249023</td>\n      <td>940.036377</td>\n      <td>1135.658081</td>\n      <td>634.414917</td>\n      <td>...</td>\n      <td>-0.027949</td>\n      <td>0.499639</td>\n      <td>7.604598</td>\n      <td>33.298050</td>\n      <td>0.042227</td>\n      <td>3.631802</td>\n      <td>1267.982456</td>\n      <td>4049.222312</td>\n      <td>532.607710</td>\n      <td>168.902977</td>\n    </tr>\n    <tr>\n      <th>172</th>\n      <td>295.246796</td>\n      <td>608.599426</td>\n      <td>447.053894</td>\n      <td>1254.948608</td>\n      <td>327.024689</td>\n      <td>632.872681</td>\n      <td>212.920273</td>\n      <td>431.642578</td>\n      <td>227.684769</td>\n      <td>451.678558</td>\n      <td>...</td>\n      <td>-0.043362</td>\n      <td>0.543919</td>\n      <td>2.365615</td>\n      <td>13.054722</td>\n      <td>-0.314367</td>\n      <td>1.451370</td>\n      <td>1010.087719</td>\n      <td>774.624350</td>\n      <td>104.844611</td>\n      <td>126.542897</td>\n    </tr>\n  </tbody>\n</table>\n<p>256 rows × 61 columns</p>\n</div>"
          },
          "metadata": {}
        }
      ]
    },
    {
      "cell_type": "markdown",
      "source": "## Normalize data\n\n## RobustScaler - MinMaxScaler - StandartScaler",
      "metadata": {
        "tags": [],
        "cell_id": "00010-724c13d9-0c4a-4809-bcc2-58918e52c9ea",
        "deepnote_cell_type": "markdown"
      }
    },
    {
      "cell_type": "code",
      "metadata": {
        "tags": [],
        "cell_id": "00011-4d4973bd-ba7c-45b4-8ab7-052ec4676905",
        "deepnote_to_be_reexecuted": false,
        "source_hash": "77b99f4",
        "execution_millis": 1465,
        "execution_start": 1619183297020,
        "deepnote_cell_type": "code"
      },
      "source": "scaler = RobustScaler(quantile_range=(1, 99))\n#scaler = MinMaxScaler()\n# scaler = StandardScaler()\nx_train_scaler = pd.DataFrame(scaler.fit_transform(x_train))\nx_train_scaler.columns = x_train_scaler.columns\nx_train_scaler.boxplot(figsize=(15,5))",
      "execution_count": 8,
      "outputs": [
        {
          "output_type": "execute_result",
          "execution_count": 8,
          "data": {
            "text/plain": "<AxesSubplot:>"
          },
          "metadata": {}
        },
        {
          "data": {
            "text/plain": "<Figure size 1080x360 with 1 Axes>",
            "image/png": "[encoded data removed]"
          },
          "metadata": {
            "needs_background": "light"
          },
          "output_type": "display_data"
        }
      ]
    },
    {
      "cell_type": "code",
      "metadata": {
        "tags": [],
        "cell_id": "00011-039ad069-b208-42cc-86b6-8208ef10b697",
        "deepnote_to_be_reexecuted": false,
        "source_hash": "4d6af8fd",
        "execution_millis": 2,
        "execution_start": 1619183298493,
        "deepnote_cell_type": "code"
      },
      "source": "x_val_scaler = pd.DataFrame(scaler.transform(x_val))\nx_val_scaler.columns = x_val_scaler.columns\n\nx_test_scaler = pd.DataFrame(scaler.transform(x_test))\nx_test_scaler.columns = x_val.columns",
      "execution_count": 9,
      "outputs": []
    },
    {
      "cell_type": "code",
      "metadata": {
        "tags": [],
        "cell_id": "00017-ef7fa735-a969-49e8-8f6c-2591748ba1b8",
        "deepnote_to_be_reexecuted": false,
        "source_hash": "b623e53d",
        "execution_millis": 0,
        "execution_start": 1619183298498,
        "deepnote_cell_type": "code"
      },
      "source": "",
      "execution_count": 9,
      "outputs": []
    },
    {
      "cell_type": "markdown",
      "source": "## Regularization with Lasso to find usefull features",
      "metadata": {
        "tags": [],
        "cell_id": "00018-e596a603-d0b6-4e4a-9e9a-2a5b1a72a73e",
        "deepnote_cell_type": "markdown"
      }
    },
    {
      "cell_type": "code",
      "metadata": {
        "tags": [],
        "cell_id": "00018-d110f626-ca85-4438-bc33-46088a57390c",
        "deepnote_to_be_reexecuted": false,
        "source_hash": "4fb033fa",
        "execution_millis": 23,
        "execution_start": 1619183298503,
        "deepnote_cell_type": "code"
      },
      "source": "clf = linear_model.Lasso(alpha=0.1)\nclf.fit(x_train, y_train)",
      "execution_count": 10,
      "outputs": [
        {
          "output_type": "execute_result",
          "execution_count": 10,
          "data": {
            "text/plain": "Lasso(alpha=0.1)"
          },
          "metadata": {}
        }
      ]
    },
    {
      "cell_type": "code",
      "metadata": {
        "tags": [],
        "cell_id": "00018-269d2f6a-f181-484f-a328-e54beb6d8610",
        "deepnote_to_be_reexecuted": false,
        "source_hash": "325e57db",
        "execution_millis": 9,
        "execution_start": 1619183313946,
        "deepnote_cell_type": "code"
      },
      "source": "clf.coef_",
      "execution_count": 15,
      "outputs": [
        {
          "output_type": "execute_result",
          "execution_count": 15,
          "data": {
            "text/plain": "array([-4.58405657e-04,  4.46971535e-04, -1.04024228e-03,  1.68935384e-04,\n       -4.66422137e-05, -4.40680879e-05,  1.76814992e-04,  2.33028005e-04,\n       -1.15223146e-03,  5.78594321e-04,  2.38201454e-04,  5.60200019e-04,\n       -8.95514629e-04,  4.61781636e-04, -0.00000000e+00,  5.78385529e-05,\n        8.62165819e-04, -5.50695921e-05,  7.04832787e-04, -1.38124396e-04,\n       -2.62765973e-04,  1.44492135e-04, -1.13687211e-03,  8.12337960e-04,\n       -0.00000000e+00, -7.98939701e-04, -6.07744605e-05,  1.03097060e-02,\n       -0.00000000e+00, -0.00000000e+00, -0.00000000e+00,  0.00000000e+00,\n        0.00000000e+00, -0.00000000e+00,  0.00000000e+00,  0.00000000e+00,\n        0.00000000e+00,  0.00000000e+00,  0.00000000e+00,  0.00000000e+00,\n       -0.00000000e+00,  8.50334646e-02, -0.00000000e+00,  0.00000000e+00,\n       -0.00000000e+00,  0.00000000e+00, -0.00000000e+00,  0.00000000e+00,\n       -0.00000000e+00,  0.00000000e+00, -0.00000000e+00, -0.00000000e+00,\n       -0.00000000e+00,  2.08508214e-01, -2.27687438e-03, -0.00000000e+00,\n        0.00000000e+00, -1.88260483e-04,  3.00847149e-05,  2.00233725e-03,\n        3.16469266e-03])"
          },
          "metadata": {}
        }
      ]
    },
    {
      "cell_type": "markdown",
      "source": "The closer the coefficients are to 0, the less useful the column is <br>\nSo we will select the columns :\n- 2 = 4.46971535e-04\n- 10 = 5.78594321e-04\n- 12 = 5.60200019e-04\n- 14 = 4.61781636e-04\n- 17 = 8.62165819e-04\n- 19 = 7.04832787e-04\n- 24 = 8.12337960e-04\n- 28 = 1.03097060e-02\n- 42 = 8.50334646e-02\n- 54 = 2.08508214e-01\n- 60 = 2.00233725e-03\n- 61 = 3.16469266e-03",
      "metadata": {
        "tags": [],
        "cell_id": "00019-8952067d-55e7-4ba2-be0a-540c80d430f6",
        "deepnote_cell_type": "markdown"
      }
    },
    {
      "cell_type": "code",
      "metadata": {
        "tags": [],
        "cell_id": "00020-c82e7928-4b3c-4ff2-bde6-b79a1f163a2b",
        "deepnote_to_be_reexecuted": false,
        "source_hash": "f382e937",
        "execution_millis": 17,
        "execution_start": 1619184142409,
        "deepnote_cell_type": "code"
      },
      "source": "cols = [1,9,11,13,16,18,23,27,41,53,59,60]\ndf_cols = pd.DataFrame(x_train.columns)\ndf_cols = df_cols.iloc[cols]\ndf_cols[0].tolist()",
      "execution_count": 47,
      "outputs": [
        {
          "output_type": "execute_result",
          "execution_count": 47,
          "data": {
            "text/plain": "['chroma_0_std',\n 'chroma_2_std',\n 'chroma_3_std',\n 'chroma_4_std',\n 'chroma_6_mean',\n 'chroma_7_mean',\n 'chroma_9_std',\n 'chroma_min',\n 'mfcc_4_mean',\n 'onset_rate',\n 'zcr_mean',\n 'zcr_std']"
          },
          "metadata": {}
        }
      ]
    },
    {
      "cell_type": "code",
      "metadata": {
        "tags": [],
        "cell_id": "00021-9b6a0679-aa0b-4325-b855-520827117887",
        "deepnote_to_be_reexecuted": false,
        "source_hash": "57846699",
        "execution_millis": 77,
        "execution_start": 1619184143952,
        "deepnote_cell_type": "code"
      },
      "source": "x_train = x_train[df_cols]\nx_val = x_val[df_cols]\nx_test = x_test[df_cols]",
      "execution_count": 48,
      "outputs": []
    },
    {
      "cell_type": "markdown",
      "source": "## PCA",
      "metadata": {
        "tags": [],
        "cell_id": "00018-0c604233-cd34-47d8-8e9a-6c22d8bf9cbc",
        "deepnote_cell_type": "markdown"
      }
    },
    {
      "cell_type": "code",
      "metadata": {
        "tags": [],
        "cell_id": "00013-c0d7f58a-e2a7-4b7a-b847-b6a8f1d7d314",
        "deepnote_to_be_reexecuted": false,
        "source_hash": "405f394a",
        "execution_millis": 22,
        "execution_start": 1619184148349,
        "deepnote_cell_type": "code"
      },
      "source": "pca = PCA(n_components=5)\nx_train_pca = pca.fit_transform(x_train_scaler)\nx_val_pca = pca.transform(x_val_scaler)\nx_test_pca = pca.transform(x_test_scaler)",
      "execution_count": 50,
      "outputs": []
    },
    {
      "cell_type": "code",
      "metadata": {
        "tags": [],
        "cell_id": "00016-b118e01d-9453-4035-8d19-ed929b91001f",
        "deepnote_to_be_reexecuted": false,
        "source_hash": "a207e101",
        "execution_millis": 10,
        "execution_start": 1619184149831,
        "deepnote_cell_type": "code"
      },
      "source": "# Pour étudier la variance expliqué par chaque axe :\nexplained_variance_ratio = pca.explained_variance_ratio_\nexplained_variance_ratio\n",
      "execution_count": 51,
      "outputs": [
        {
          "output_type": "execute_result",
          "execution_count": 51,
          "data": {
            "text/plain": "array([0.25951844, 0.14848772, 0.07687958, 0.05714926, 0.04877565])"
          },
          "metadata": {}
        }
      ]
    },
    {
      "cell_type": "code",
      "metadata": {
        "tags": [],
        "cell_id": "00017-1e5609c2-841b-4b23-9bcd-3acd11c8e0db",
        "deepnote_to_be_reexecuted": false,
        "source_hash": "7527fc76",
        "execution_millis": 1181,
        "execution_start": 1619184152429,
        "deepnote_cell_type": "code"
      },
      "source": "# utiliser Seaborn pour visualiser explained_variance_ratio\nsns.histplot(explained_variance_ratio, kde=True)",
      "execution_count": 52,
      "outputs": [
        {
          "output_type": "execute_result",
          "execution_count": 52,
          "data": {
            "text/plain": "<AxesSubplot:ylabel='Count'>"
          },
          "metadata": {}
        },
        {
          "data": {
            "text/plain": "<Figure size 432x288 with 1 Axes>",
            "image/png": "[encoded data removed]"
          },
          "metadata": {
            "needs_background": "light"
          },
          "output_type": "display_data"
        }
      ]
    },
    {
      "cell_type": "markdown",
      "source": "## Save preproc data",
      "metadata": {
        "tags": [],
        "cell_id": "00022-5fbe9547-efd2-4fe1-a9bf-1a193e978488",
        "deepnote_cell_type": "markdown"
      }
    },
    {
      "cell_type": "code",
      "metadata": {
        "tags": [],
        "cell_id": "00005-5fcadc28-17fb-45b9-886a-db528e9fad38",
        "deepnote_to_be_reexecuted": false,
        "source_hash": "76f83cbc",
        "execution_millis": 7,
        "execution_start": 1619184154454,
        "deepnote_cell_type": "code"
      },
      "source": "with open('../data/x_train_preproc.pickle', 'wb') as handle:\n    pickle.dump(x_train_pca, handle, protocol=pickle.HIGHEST_PROTOCOL)\nwith open('../data/x_val_preproc.pickle', 'wb') as handle:\n    pickle.dump(x_val_pca, handle, protocol=pickle.HIGHEST_PROTOCOL)\nwith open('../data/x_test_preproc.pickle', 'wb') as handle:\n    pickle.dump(x_test_pca, handle, protocol=pickle.HIGHEST_PROTOCOL)",
      "execution_count": 53,
      "outputs": []
    },
    {
      "cell_type": "markdown",
      "source": "<a style='text-decoration:none;line-height:16px;display:flex;color:#5B5B62;padding:10px;justify-content:end;' href='https://deepnote.com?utm_source=created-in-deepnote-cell&projectId=2011f815-0780-43fd-b5d6-053a5c8d7739' target=\"_blank\">\n<img alt='Created in deepnote.com' style='display:inline;max-height:16px;margin:0px;margin-right:7.5px;' src='data:image/svg+xml;base64,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' > </img>\nCreated in <span style='font-weight:600;margin-left:4px;'>Deepnote</span></a>",
      "metadata": {
        "tags": [],
        "created_in_deepnote_cell": true,
        "deepnote_cell_type": "markdown"
      }
    }
  ],
  "nbformat": 4,
  "nbformat_minor": 2,
  "metadata": {
    "orig_nbformat": 2,
    "deepnote": {
      "is_reactive": false
    },
    "deepnote_notebook_id": "b2a8ba77-f7a3-4c9a-8d2e-7ef78ed38005",
    "deepnote_execution_queue": []
  }
}